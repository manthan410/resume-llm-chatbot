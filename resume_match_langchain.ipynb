{
 "cells": [
  {
   "cell_type": "markdown",
   "id": "2f7d51bb",
   "metadata": {},
   "source": [
    "# Scrape Job postings"
   ]
  },
  {
   "cell_type": "code",
   "execution_count": 14,
   "id": "4068d3ce",
   "metadata": {},
   "outputs": [],
   "source": [
    "#!pip install python-jobspy"
   ]
  },
  {
   "cell_type": "code",
   "execution_count": 1,
   "id": "64c56067",
   "metadata": {},
   "outputs": [],
   "source": [
    "from jobspy import scrape_jobs  # aletrnative-use rapid api\n",
    "\n",
    "jobs = scrape_jobs(\n",
    "    site_name=[\"indeed\"],  # \"linkedin\", \"glassdoor\"\n",
    "    search_term=\"software engineer\",\n",
    "    location=\"Mumbai\",             # Dallas, TX\n",
    "    results_wanted=20,\n",
    "    country_indeed='India' # USA  # only needed for indeed / glassdoor\n",
    ")\n",
    "\n",
    "#jobs.to_csv(\"jobs.csv\", index=False) # to_xlsx"
   ]
  },
  {
   "cell_type": "code",
   "execution_count": 2,
   "id": "631bdd70-54da-43c6-9dbf-01bc06c16b9f",
   "metadata": {},
   "outputs": [
    {
     "name": "stdout",
     "output_type": "stream",
     "text": [
      "Found 20 jobs\n"
     ]
    },
    {
     "data": {
      "text/html": [
       "<div>\n",
       "<style scoped>\n",
       "    .dataframe tbody tr th:only-of-type {\n",
       "        vertical-align: middle;\n",
       "    }\n",
       "\n",
       "    .dataframe tbody tr th {\n",
       "        vertical-align: top;\n",
       "    }\n",
       "\n",
       "    .dataframe thead th {\n",
       "        text-align: right;\n",
       "    }\n",
       "</style>\n",
       "<table border=\"1\" class=\"dataframe\">\n",
       "  <thead>\n",
       "    <tr style=\"text-align: right;\">\n",
       "      <th></th>\n",
       "      <th>job_url</th>\n",
       "      <th>site</th>\n",
       "      <th>title</th>\n",
       "      <th>company</th>\n",
       "      <th>company_url</th>\n",
       "      <th>location</th>\n",
       "      <th>job_type</th>\n",
       "      <th>date_posted</th>\n",
       "      <th>interval</th>\n",
       "      <th>min_amount</th>\n",
       "      <th>max_amount</th>\n",
       "      <th>currency</th>\n",
       "      <th>is_remote</th>\n",
       "      <th>num_urgent_words</th>\n",
       "      <th>benefits</th>\n",
       "      <th>emails</th>\n",
       "      <th>description</th>\n",
       "    </tr>\n",
       "  </thead>\n",
       "  <tbody>\n",
       "    <tr>\n",
       "      <th>0</th>\n",
       "      <td>https://in.indeed.com/viewjob?jk=0c1c6c34e8fa3a4a</td>\n",
       "      <td>indeed</td>\n",
       "      <td>Developer</td>\n",
       "      <td>TheMaverics Technologies</td>\n",
       "      <td>None</td>\n",
       "      <td>MH, India</td>\n",
       "      <td>fulltime</td>\n",
       "      <td>2024-01-14</td>\n",
       "      <td>yearly</td>\n",
       "      <td>250000</td>\n",
       "      <td>400000</td>\n",
       "      <td>INR</td>\n",
       "      <td>True</td>\n",
       "      <td>0</td>\n",
       "      <td>None</td>\n",
       "      <td>None</td>\n",
       "      <td>Job Summary MS PowerApps / Automate developer ...</td>\n",
       "    </tr>\n",
       "    <tr>\n",
       "      <th>1</th>\n",
       "      <td>https://in.indeed.com/viewjob?jk=dbe12705f900a6d8</td>\n",
       "      <td>indeed</td>\n",
       "      <td>Cloud Engineer</td>\n",
       "      <td>TheMaverics Technologies</td>\n",
       "      <td>None</td>\n",
       "      <td>MH, India</td>\n",
       "      <td>fulltime</td>\n",
       "      <td>2024-01-14</td>\n",
       "      <td>None</td>\n",
       "      <td>None</td>\n",
       "      <td>None</td>\n",
       "      <td>None</td>\n",
       "      <td>False</td>\n",
       "      <td>0</td>\n",
       "      <td>None</td>\n",
       "      <td>None</td>\n",
       "      <td>Job Summary The Azure Cloud Engineer’s primary...</td>\n",
       "    </tr>\n",
       "    <tr>\n",
       "      <th>2</th>\n",
       "      <td>https://in.indeed.com/viewjob?jk=881b6eb1539bd028</td>\n",
       "      <td>indeed</td>\n",
       "      <td>Sharepoint Developer</td>\n",
       "      <td>TheMaverics Technologies</td>\n",
       "      <td>None</td>\n",
       "      <td>MH, India</td>\n",
       "      <td>fulltime</td>\n",
       "      <td>2024-01-14</td>\n",
       "      <td>yearly</td>\n",
       "      <td>250000</td>\n",
       "      <td>400000</td>\n",
       "      <td>INR</td>\n",
       "      <td>True</td>\n",
       "      <td>0</td>\n",
       "      <td>None</td>\n",
       "      <td>None</td>\n",
       "      <td>Job Summary SharePoint Online developers desig...</td>\n",
       "    </tr>\n",
       "    <tr>\n",
       "      <th>3</th>\n",
       "      <td>https://in.indeed.com/viewjob?jk=35d43c904682648a</td>\n",
       "      <td>indeed</td>\n",
       "      <td>Web Developer</td>\n",
       "      <td>Accenture</td>\n",
       "      <td>https://in.indeed.com/cmp/Accenture</td>\n",
       "      <td>MH, India</td>\n",
       "      <td>fulltime</td>\n",
       "      <td>2024-01-14</td>\n",
       "      <td>None</td>\n",
       "      <td>None</td>\n",
       "      <td>None</td>\n",
       "      <td>None</td>\n",
       "      <td>False</td>\n",
       "      <td>0</td>\n",
       "      <td>None</td>\n",
       "      <td>None</td>\n",
       "      <td>Skill required: Content Management - Web Conte...</td>\n",
       "    </tr>\n",
       "    <tr>\n",
       "      <th>4</th>\n",
       "      <td>https://in.indeed.com/viewjob?jk=badda4e4d8e9191c</td>\n",
       "      <td>indeed</td>\n",
       "      <td>Digital Marketer</td>\n",
       "      <td>Accenture</td>\n",
       "      <td>https://in.indeed.com/cmp/Accenture</td>\n",
       "      <td>MH, India</td>\n",
       "      <td>fulltime</td>\n",
       "      <td>2024-01-14</td>\n",
       "      <td>None</td>\n",
       "      <td>None</td>\n",
       "      <td>None</td>\n",
       "      <td>None</td>\n",
       "      <td>False</td>\n",
       "      <td>0</td>\n",
       "      <td>None</td>\n",
       "      <td>None</td>\n",
       "      <td>Skill required: Digital Marketing - Hyper Text...</td>\n",
       "    </tr>\n",
       "    <tr>\n",
       "      <th>5</th>\n",
       "      <td>https://in.indeed.com/viewjob?jk=ef00796deee83204</td>\n",
       "      <td>indeed</td>\n",
       "      <td>Digital Marketer</td>\n",
       "      <td>Accenture</td>\n",
       "      <td>https://in.indeed.com/cmp/Accenture</td>\n",
       "      <td>MH, India</td>\n",
       "      <td>fulltime</td>\n",
       "      <td>2024-01-14</td>\n",
       "      <td>None</td>\n",
       "      <td>None</td>\n",
       "      <td>None</td>\n",
       "      <td>None</td>\n",
       "      <td>False</td>\n",
       "      <td>0</td>\n",
       "      <td>None</td>\n",
       "      <td>None</td>\n",
       "      <td>Skill required: Digital Marketing - Hyper Text...</td>\n",
       "    </tr>\n",
       "    <tr>\n",
       "      <th>6</th>\n",
       "      <td>https://in.indeed.com/viewjob?jk=08a5899d692255fa</td>\n",
       "      <td>indeed</td>\n",
       "      <td>Junior Software Engineer</td>\n",
       "      <td>DDAS HUB</td>\n",
       "      <td>None</td>\n",
       "      <td>Thane, MH, India</td>\n",
       "      <td>fulltime</td>\n",
       "      <td>2024-01-14</td>\n",
       "      <td>yearly</td>\n",
       "      <td>1400000</td>\n",
       "      <td>1600000</td>\n",
       "      <td>INR</td>\n",
       "      <td>False</td>\n",
       "      <td>1</td>\n",
       "      <td>None</td>\n",
       "      <td>None</td>\n",
       "      <td>Jr. Software Developer Company: 5Paisa Capital...</td>\n",
       "    </tr>\n",
       "    <tr>\n",
       "      <th>7</th>\n",
       "      <td>https://in.indeed.com/viewjob?jk=4b79b299cbc3e18e</td>\n",
       "      <td>indeed</td>\n",
       "      <td>Web Developer</td>\n",
       "      <td>Accenture</td>\n",
       "      <td>https://in.indeed.com/cmp/Accenture</td>\n",
       "      <td>MH, India</td>\n",
       "      <td>fulltime</td>\n",
       "      <td>2024-01-12</td>\n",
       "      <td>None</td>\n",
       "      <td>None</td>\n",
       "      <td>None</td>\n",
       "      <td>None</td>\n",
       "      <td>False</td>\n",
       "      <td>0</td>\n",
       "      <td>None</td>\n",
       "      <td>None</td>\n",
       "      <td>Skill required: Digital Marketing - Hyper Text...</td>\n",
       "    </tr>\n",
       "    <tr>\n",
       "      <th>8</th>\n",
       "      <td>https://in.indeed.com/viewjob?jk=b7f1b28304cecbe4</td>\n",
       "      <td>indeed</td>\n",
       "      <td>Senior Developer</td>\n",
       "      <td>Meithee Tech Private Limited</td>\n",
       "      <td>None</td>\n",
       "      <td>MH, India</td>\n",
       "      <td>fulltime</td>\n",
       "      <td>2024-01-13</td>\n",
       "      <td>yearly</td>\n",
       "      <td>2000000</td>\n",
       "      <td>2000000</td>\n",
       "      <td>INR</td>\n",
       "      <td>False</td>\n",
       "      <td>0</td>\n",
       "      <td>None</td>\n",
       "      <td>None</td>\n",
       "      <td>Senior SFCC Developer : : Mumbai 6 to 8 years ...</td>\n",
       "    </tr>\n",
       "    <tr>\n",
       "      <th>9</th>\n",
       "      <td>https://in.indeed.com/viewjob?jk=c14a8dfe249fdedd</td>\n",
       "      <td>indeed</td>\n",
       "      <td>Front End Developer</td>\n",
       "      <td>Harjai Computers</td>\n",
       "      <td>https://in.indeed.com/cmp/Harjai-Computers</td>\n",
       "      <td>MH, India</td>\n",
       "      <td>None</td>\n",
       "      <td>2023-12-20</td>\n",
       "      <td>yearly</td>\n",
       "      <td>600000</td>\n",
       "      <td>700000</td>\n",
       "      <td>INR</td>\n",
       "      <td>False</td>\n",
       "      <td>0</td>\n",
       "      <td>None</td>\n",
       "      <td>None</td>\n",
       "      <td>Exp- 3yrs to 5yrs Rate - 1Lpa Front-End Develo...</td>\n",
       "    </tr>\n",
       "    <tr>\n",
       "      <th>10</th>\n",
       "      <td>https://in.indeed.com/viewjob?jk=45a085f5295a2cf1</td>\n",
       "      <td>indeed</td>\n",
       "      <td>Software Engineering Manager</td>\n",
       "      <td>Thermo Fisher Scientific</td>\n",
       "      <td>https://in.indeed.com/cmp/Thermo-Fisher-Scient...</td>\n",
       "      <td>MH, India</td>\n",
       "      <td>fulltime</td>\n",
       "      <td>2024-01-12</td>\n",
       "      <td>None</td>\n",
       "      <td>None</td>\n",
       "      <td>None</td>\n",
       "      <td>None</td>\n",
       "      <td>False</td>\n",
       "      <td>0</td>\n",
       "      <td>None</td>\n",
       "      <td>None</td>\n",
       "      <td>Job Description At Thermo Fisher Scientific, o...</td>\n",
       "    </tr>\n",
       "    <tr>\n",
       "      <th>11</th>\n",
       "      <td>https://in.indeed.com/viewjob?jk=f5cbdf94b07834f7</td>\n",
       "      <td>indeed</td>\n",
       "      <td>.NET Developer</td>\n",
       "      <td>Harjai Computers</td>\n",
       "      <td>https://in.indeed.com/cmp/Harjai-Computers</td>\n",
       "      <td>MH, India</td>\n",
       "      <td>None</td>\n",
       "      <td>2023-12-20</td>\n",
       "      <td>None</td>\n",
       "      <td>None</td>\n",
       "      <td>None</td>\n",
       "      <td>None</td>\n",
       "      <td>False</td>\n",
       "      <td>0</td>\n",
       "      <td>None</td>\n",
       "      <td>None</td>\n",
       "      <td>Exp- 3 to 5yrs Rate 70K ASP.NET developer with...</td>\n",
       "    </tr>\n",
       "    <tr>\n",
       "      <th>12</th>\n",
       "      <td>https://in.indeed.com/viewjob?jk=7e864ca534373557</td>\n",
       "      <td>indeed</td>\n",
       "      <td>Site Reliability Engineer</td>\n",
       "      <td>Wipro</td>\n",
       "      <td>https://in.indeed.com/cmp/Wipro</td>\n",
       "      <td>MH, India</td>\n",
       "      <td>None</td>\n",
       "      <td>2024-01-13</td>\n",
       "      <td>None</td>\n",
       "      <td>None</td>\n",
       "      <td>None</td>\n",
       "      <td>None</td>\n",
       "      <td>False</td>\n",
       "      <td>0</td>\n",
       "      <td>None</td>\n",
       "      <td>helpdesk.recruitment@wipro.com, ombuds.person@...</td>\n",
       "      <td>Mumbai, India GSH 3035497 Job Description We a...</td>\n",
       "    </tr>\n",
       "    <tr>\n",
       "      <th>13</th>\n",
       "      <td>https://in.indeed.com/viewjob?jk=4da1c096ea29a9b9</td>\n",
       "      <td>indeed</td>\n",
       "      <td>Developer</td>\n",
       "      <td>Harjai Computers</td>\n",
       "      <td>https://in.indeed.com/cmp/Harjai-Computers</td>\n",
       "      <td>MH, India</td>\n",
       "      <td>None</td>\n",
       "      <td>2024-01-12</td>\n",
       "      <td>None</td>\n",
       "      <td>None</td>\n",
       "      <td>None</td>\n",
       "      <td>None</td>\n",
       "      <td>False</td>\n",
       "      <td>0</td>\n",
       "      <td>None</td>\n",
       "      <td>None</td>\n",
       "      <td>Front End developer 1-2 year Proficiency in fr...</td>\n",
       "    </tr>\n",
       "    <tr>\n",
       "      <th>14</th>\n",
       "      <td>https://in.indeed.com/viewjob?jk=ac6adb67365ba443</td>\n",
       "      <td>indeed</td>\n",
       "      <td>Software Engineer</td>\n",
       "      <td>Atkom Infotech Private Limited</td>\n",
       "      <td>None</td>\n",
       "      <td>MH, India</td>\n",
       "      <td>None</td>\n",
       "      <td>2024-01-13</td>\n",
       "      <td>None</td>\n",
       "      <td>None</td>\n",
       "      <td>None</td>\n",
       "      <td>None</td>\n",
       "      <td>False</td>\n",
       "      <td>0</td>\n",
       "      <td>None</td>\n",
       "      <td>info@atkominfotech.com</td>\n",
       "      <td>Job Description: Independently develop &amp; test ...</td>\n",
       "    </tr>\n",
       "    <tr>\n",
       "      <th>15</th>\n",
       "      <td>https://in.indeed.com/viewjob?jk=88feef2c418ccd2a</td>\n",
       "      <td>indeed</td>\n",
       "      <td>Digital Marketer</td>\n",
       "      <td>Accenture</td>\n",
       "      <td>https://in.indeed.com/cmp/Accenture</td>\n",
       "      <td>MH, India</td>\n",
       "      <td>fulltime</td>\n",
       "      <td>2024-01-12</td>\n",
       "      <td>None</td>\n",
       "      <td>None</td>\n",
       "      <td>None</td>\n",
       "      <td>None</td>\n",
       "      <td>False</td>\n",
       "      <td>0</td>\n",
       "      <td>None</td>\n",
       "      <td>None</td>\n",
       "      <td>Skill required: Digital Marketing - Hyper Text...</td>\n",
       "    </tr>\n",
       "    <tr>\n",
       "      <th>16</th>\n",
       "      <td>https://in.indeed.com/viewjob?jk=f41d565074b4ed31</td>\n",
       "      <td>indeed</td>\n",
       "      <td>Digital Marketer</td>\n",
       "      <td>Accenture</td>\n",
       "      <td>https://in.indeed.com/cmp/Accenture</td>\n",
       "      <td>MH, India</td>\n",
       "      <td>fulltime</td>\n",
       "      <td>2024-01-12</td>\n",
       "      <td>None</td>\n",
       "      <td>None</td>\n",
       "      <td>None</td>\n",
       "      <td>None</td>\n",
       "      <td>False</td>\n",
       "      <td>0</td>\n",
       "      <td>None</td>\n",
       "      <td>None</td>\n",
       "      <td>Skill required: Digital Marketing - Hyper Text...</td>\n",
       "    </tr>\n",
       "    <tr>\n",
       "      <th>17</th>\n",
       "      <td>https://in.indeed.com/viewjob?jk=2c91f430814ecd1b</td>\n",
       "      <td>indeed</td>\n",
       "      <td>Full Stack Developer</td>\n",
       "      <td>Harjai Computers</td>\n",
       "      <td>https://in.indeed.com/cmp/Harjai-Computers</td>\n",
       "      <td>MH, India</td>\n",
       "      <td>None</td>\n",
       "      <td>2023-12-20</td>\n",
       "      <td>yearly</td>\n",
       "      <td>100000</td>\n",
       "      <td>100000</td>\n",
       "      <td>INR</td>\n",
       "      <td>False</td>\n",
       "      <td>0</td>\n",
       "      <td>None</td>\n",
       "      <td>None</td>\n",
       "      <td>Rate - 1Lpa ﻿Job description Looking for a dyn...</td>\n",
       "    </tr>\n",
       "    <tr>\n",
       "      <th>18</th>\n",
       "      <td>https://in.indeed.com/viewjob?jk=7c316c678f43fe41</td>\n",
       "      <td>indeed</td>\n",
       "      <td>Full Stack Developer</td>\n",
       "      <td>Harjai Computers</td>\n",
       "      <td>https://in.indeed.com/cmp/Harjai-Computers</td>\n",
       "      <td>MH, India</td>\n",
       "      <td>None</td>\n",
       "      <td>2024-01-12</td>\n",
       "      <td>monthly</td>\n",
       "      <td>110000</td>\n",
       "      <td>140000</td>\n",
       "      <td>INR</td>\n",
       "      <td>False</td>\n",
       "      <td>0</td>\n",
       "      <td>None</td>\n",
       "      <td>None</td>\n",
       "      <td>Developer: 1. Writing quality Code, Unit Testi...</td>\n",
       "    </tr>\n",
       "    <tr>\n",
       "      <th>19</th>\n",
       "      <td>https://in.indeed.com/viewjob?jk=442ae098e6d52c88</td>\n",
       "      <td>indeed</td>\n",
       "      <td>Python Developer</td>\n",
       "      <td>Harjai Computers</td>\n",
       "      <td>https://in.indeed.com/cmp/Harjai-Computers</td>\n",
       "      <td>MH, India</td>\n",
       "      <td>None</td>\n",
       "      <td>2024-01-12</td>\n",
       "      <td>None</td>\n",
       "      <td>None</td>\n",
       "      <td>None</td>\n",
       "      <td>None</td>\n",
       "      <td>False</td>\n",
       "      <td>0</td>\n",
       "      <td>None</td>\n",
       "      <td>None</td>\n",
       "      <td>Job Location: Andheri, Mumbai Job Summary: As ...</td>\n",
       "    </tr>\n",
       "  </tbody>\n",
       "</table>\n",
       "</div>"
      ],
      "text/plain": [
       "                                              job_url    site  \\\n",
       "0   https://in.indeed.com/viewjob?jk=0c1c6c34e8fa3a4a  indeed   \n",
       "1   https://in.indeed.com/viewjob?jk=dbe12705f900a6d8  indeed   \n",
       "2   https://in.indeed.com/viewjob?jk=881b6eb1539bd028  indeed   \n",
       "3   https://in.indeed.com/viewjob?jk=35d43c904682648a  indeed   \n",
       "4   https://in.indeed.com/viewjob?jk=badda4e4d8e9191c  indeed   \n",
       "5   https://in.indeed.com/viewjob?jk=ef00796deee83204  indeed   \n",
       "6   https://in.indeed.com/viewjob?jk=08a5899d692255fa  indeed   \n",
       "7   https://in.indeed.com/viewjob?jk=4b79b299cbc3e18e  indeed   \n",
       "8   https://in.indeed.com/viewjob?jk=b7f1b28304cecbe4  indeed   \n",
       "9   https://in.indeed.com/viewjob?jk=c14a8dfe249fdedd  indeed   \n",
       "10  https://in.indeed.com/viewjob?jk=45a085f5295a2cf1  indeed   \n",
       "11  https://in.indeed.com/viewjob?jk=f5cbdf94b07834f7  indeed   \n",
       "12  https://in.indeed.com/viewjob?jk=7e864ca534373557  indeed   \n",
       "13  https://in.indeed.com/viewjob?jk=4da1c096ea29a9b9  indeed   \n",
       "14  https://in.indeed.com/viewjob?jk=ac6adb67365ba443  indeed   \n",
       "15  https://in.indeed.com/viewjob?jk=88feef2c418ccd2a  indeed   \n",
       "16  https://in.indeed.com/viewjob?jk=f41d565074b4ed31  indeed   \n",
       "17  https://in.indeed.com/viewjob?jk=2c91f430814ecd1b  indeed   \n",
       "18  https://in.indeed.com/viewjob?jk=7c316c678f43fe41  indeed   \n",
       "19  https://in.indeed.com/viewjob?jk=442ae098e6d52c88  indeed   \n",
       "\n",
       "                           title                         company  \\\n",
       "0                      Developer        TheMaverics Technologies   \n",
       "1                 Cloud Engineer        TheMaverics Technologies   \n",
       "2           Sharepoint Developer        TheMaverics Technologies   \n",
       "3                  Web Developer                       Accenture   \n",
       "4               Digital Marketer                       Accenture   \n",
       "5               Digital Marketer                       Accenture   \n",
       "6       Junior Software Engineer                        DDAS HUB   \n",
       "7                  Web Developer                       Accenture   \n",
       "8               Senior Developer    Meithee Tech Private Limited   \n",
       "9            Front End Developer                Harjai Computers   \n",
       "10  Software Engineering Manager        Thermo Fisher Scientific   \n",
       "11                .NET Developer                Harjai Computers   \n",
       "12     Site Reliability Engineer                           Wipro   \n",
       "13                     Developer                Harjai Computers   \n",
       "14             Software Engineer  Atkom Infotech Private Limited   \n",
       "15              Digital Marketer                       Accenture   \n",
       "16              Digital Marketer                       Accenture   \n",
       "17          Full Stack Developer                Harjai Computers   \n",
       "18          Full Stack Developer                Harjai Computers   \n",
       "19              Python Developer                Harjai Computers   \n",
       "\n",
       "                                          company_url          location  \\\n",
       "0                                                None         MH, India   \n",
       "1                                                None         MH, India   \n",
       "2                                                None         MH, India   \n",
       "3                 https://in.indeed.com/cmp/Accenture         MH, India   \n",
       "4                 https://in.indeed.com/cmp/Accenture         MH, India   \n",
       "5                 https://in.indeed.com/cmp/Accenture         MH, India   \n",
       "6                                                None  Thane, MH, India   \n",
       "7                 https://in.indeed.com/cmp/Accenture         MH, India   \n",
       "8                                                None         MH, India   \n",
       "9          https://in.indeed.com/cmp/Harjai-Computers         MH, India   \n",
       "10  https://in.indeed.com/cmp/Thermo-Fisher-Scient...         MH, India   \n",
       "11         https://in.indeed.com/cmp/Harjai-Computers         MH, India   \n",
       "12                    https://in.indeed.com/cmp/Wipro         MH, India   \n",
       "13         https://in.indeed.com/cmp/Harjai-Computers         MH, India   \n",
       "14                                               None         MH, India   \n",
       "15                https://in.indeed.com/cmp/Accenture         MH, India   \n",
       "16                https://in.indeed.com/cmp/Accenture         MH, India   \n",
       "17         https://in.indeed.com/cmp/Harjai-Computers         MH, India   \n",
       "18         https://in.indeed.com/cmp/Harjai-Computers         MH, India   \n",
       "19         https://in.indeed.com/cmp/Harjai-Computers         MH, India   \n",
       "\n",
       "    job_type date_posted interval min_amount max_amount currency  is_remote  \\\n",
       "0   fulltime  2024-01-14   yearly     250000     400000      INR       True   \n",
       "1   fulltime  2024-01-14     None       None       None     None      False   \n",
       "2   fulltime  2024-01-14   yearly     250000     400000      INR       True   \n",
       "3   fulltime  2024-01-14     None       None       None     None      False   \n",
       "4   fulltime  2024-01-14     None       None       None     None      False   \n",
       "5   fulltime  2024-01-14     None       None       None     None      False   \n",
       "6   fulltime  2024-01-14   yearly    1400000    1600000      INR      False   \n",
       "7   fulltime  2024-01-12     None       None       None     None      False   \n",
       "8   fulltime  2024-01-13   yearly    2000000    2000000      INR      False   \n",
       "9       None  2023-12-20   yearly     600000     700000      INR      False   \n",
       "10  fulltime  2024-01-12     None       None       None     None      False   \n",
       "11      None  2023-12-20     None       None       None     None      False   \n",
       "12      None  2024-01-13     None       None       None     None      False   \n",
       "13      None  2024-01-12     None       None       None     None      False   \n",
       "14      None  2024-01-13     None       None       None     None      False   \n",
       "15  fulltime  2024-01-12     None       None       None     None      False   \n",
       "16  fulltime  2024-01-12     None       None       None     None      False   \n",
       "17      None  2023-12-20   yearly     100000     100000      INR      False   \n",
       "18      None  2024-01-12  monthly     110000     140000      INR      False   \n",
       "19      None  2024-01-12     None       None       None     None      False   \n",
       "\n",
       "    num_urgent_words benefits  \\\n",
       "0                  0     None   \n",
       "1                  0     None   \n",
       "2                  0     None   \n",
       "3                  0     None   \n",
       "4                  0     None   \n",
       "5                  0     None   \n",
       "6                  1     None   \n",
       "7                  0     None   \n",
       "8                  0     None   \n",
       "9                  0     None   \n",
       "10                 0     None   \n",
       "11                 0     None   \n",
       "12                 0     None   \n",
       "13                 0     None   \n",
       "14                 0     None   \n",
       "15                 0     None   \n",
       "16                 0     None   \n",
       "17                 0     None   \n",
       "18                 0     None   \n",
       "19                 0     None   \n",
       "\n",
       "                                               emails  \\\n",
       "0                                                None   \n",
       "1                                                None   \n",
       "2                                                None   \n",
       "3                                                None   \n",
       "4                                                None   \n",
       "5                                                None   \n",
       "6                                                None   \n",
       "7                                                None   \n",
       "8                                                None   \n",
       "9                                                None   \n",
       "10                                               None   \n",
       "11                                               None   \n",
       "12  helpdesk.recruitment@wipro.com, ombuds.person@...   \n",
       "13                                               None   \n",
       "14                             info@atkominfotech.com   \n",
       "15                                               None   \n",
       "16                                               None   \n",
       "17                                               None   \n",
       "18                                               None   \n",
       "19                                               None   \n",
       "\n",
       "                                          description  \n",
       "0   Job Summary MS PowerApps / Automate developer ...  \n",
       "1   Job Summary The Azure Cloud Engineer’s primary...  \n",
       "2   Job Summary SharePoint Online developers desig...  \n",
       "3   Skill required: Content Management - Web Conte...  \n",
       "4   Skill required: Digital Marketing - Hyper Text...  \n",
       "5   Skill required: Digital Marketing - Hyper Text...  \n",
       "6   Jr. Software Developer Company: 5Paisa Capital...  \n",
       "7   Skill required: Digital Marketing - Hyper Text...  \n",
       "8   Senior SFCC Developer : : Mumbai 6 to 8 years ...  \n",
       "9   Exp- 3yrs to 5yrs Rate - 1Lpa Front-End Develo...  \n",
       "10  Job Description At Thermo Fisher Scientific, o...  \n",
       "11  Exp- 3 to 5yrs Rate 70K ASP.NET developer with...  \n",
       "12  Mumbai, India GSH 3035497 Job Description We a...  \n",
       "13  Front End developer 1-2 year Proficiency in fr...  \n",
       "14  Job Description: Independently develop & test ...  \n",
       "15  Skill required: Digital Marketing - Hyper Text...  \n",
       "16  Skill required: Digital Marketing - Hyper Text...  \n",
       "17  Rate - 1Lpa ﻿Job description Looking for a dyn...  \n",
       "18  Developer: 1. Writing quality Code, Unit Testi...  \n",
       "19  Job Location: Andheri, Mumbai Job Summary: As ...  "
      ]
     },
     "execution_count": 2,
     "metadata": {},
     "output_type": "execute_result"
    }
   ],
   "source": [
    "print(f\"Found {len(jobs)} jobs\")\n",
    "jobs.head(30)"
   ]
  },
  {
   "cell_type": "code",
   "execution_count": 3,
   "id": "7af6f6a7-240f-4087-9c3e-c9bfef40dd03",
   "metadata": {},
   "outputs": [
    {
     "data": {
      "text/plain": [
       "'Job Summary The Azure Cloud Engineer’s primary responsibilities include responsibility for the design/planning, management, support, and oversight of the environment. Location Mumbai Job Category Full Time Job, IT, Cloud engineer Job Type Work from office- Full Time Job Description Responsibilities 1) Implementing, managing, and monitoring identity, governance, storage, compute, and virtual networks in a cloud environment, plus provision, size, monitor, and adjust resources, when needed. 2) Planning and Implementation/deployment of Azure Infrastructure 3) Components like Azure AD, Microsoft Intune, VPN, Backup, etc. Configuration of Infrastructure 4) Test and debug various Azure Infrastructure Scenarios (DC Migration, WVD, etc.) 5) Work with Senior Team members to achieve goals for the project . 6) Document the activities and operational procedures. 7) Interface independently with various groups of customers and provide support and service. Requirements 1) Work experience as System Administrator and Azure Admin 2) Azure Fundamentals certification completion 3) Troubleshooting abilities 4)Ability to learn new emerging technologies 5)Good communication skills (Written as well as Spoken) Qualification 1) Min 6 months and Max 2 years of experience with respect to Azure. 2) Overall experience 1-3 years 3)Good knowledge of Cloud Technologies and related emerging Technologies. 4)BE, BSc in Computer Science, or relevant field Microsoft Certifications Product Certification (AZ-104) will be an added advantage. Certification is not mandatory, and TMTPL can provide training for the same.'"
      ]
     },
     "execution_count": 3,
     "metadata": {},
     "output_type": "execute_result"
    }
   ],
   "source": [
    "jobs['description'][1]"
   ]
  },
  {
   "cell_type": "code",
   "execution_count": 4,
   "id": "d787fd05-b80f-4591-ad2e-cff67b888406",
   "metadata": {},
   "outputs": [
    {
     "data": {
      "text/plain": [
       "'https://in.indeed.com/viewjob?jk=dbe12705f900a6d8'"
      ]
     },
     "execution_count": 4,
     "metadata": {},
     "output_type": "execute_result"
    }
   ],
   "source": [
    "jobs['job_url'][1]"
   ]
  },
  {
   "cell_type": "markdown",
   "id": "c898f90a-1036-4108-85b2-37f4d0be69fb",
   "metadata": {},
   "source": [
    "# Scrape from Resume-pdf"
   ]
  },
  {
   "cell_type": "code",
   "execution_count": 17,
   "id": "5a7bee48-83a5-46f5-a77d-19c0941612d9",
   "metadata": {},
   "outputs": [
    {
     "name": "stdout",
     "output_type": "stream",
     "text": [
      "Collecting PyMuPDF\n",
      "  Downloading PyMuPDF-1.23.7-cp310-none-win_amd64.whl.metadata (3.4 kB)\n",
      "Collecting PyMuPDFb==1.23.7 (from PyMuPDF)\n",
      "  Downloading PyMuPDFb-1.23.7-py3-none-win_amd64.whl.metadata (1.3 kB)\n",
      "Downloading PyMuPDF-1.23.7-cp310-none-win_amd64.whl (3.5 MB)\n",
      "   ---------------------------------------- 0.0/3.5 MB ? eta -:--:--\n",
      "    --------------------------------------- 0.1/3.5 MB 1.7 MB/s eta 0:00:03\n",
      "   ----------- ---------------------------- 1.0/3.5 MB 13.3 MB/s eta 0:00:01\n",
      "   ----------- ---------------------------- 1.0/3.5 MB 13.3 MB/s eta 0:00:01\n",
      "   ----------- ---------------------------- 1.0/3.5 MB 13.3 MB/s eta 0:00:01\n",
      "   ----------- ---------------------------- 1.0/3.5 MB 13.3 MB/s eta 0:00:01\n",
      "   ------------- -------------------------- 1.2/3.5 MB 5.0 MB/s eta 0:00:01\n",
      "   ---------------------------------------  3.5/3.5 MB 13.1 MB/s eta 0:00:01\n",
      "   ---------------------------------------- 3.5/3.5 MB 12.4 MB/s eta 0:00:00\n",
      "Downloading PyMuPDFb-1.23.7-py3-none-win_amd64.whl (24.5 MB)\n",
      "   ---------------------------------------- 0.0/24.5 MB ? eta -:--:--\n",
      "   ----- ---------------------------------- 3.2/24.5 MB 101.1 MB/s eta 0:00:01\n",
      "   ---------- ----------------------------- 6.5/24.5 MB 82.6 MB/s eta 0:00:01\n",
      "   ---------------- ----------------------- 10.3/24.5 MB 93.0 MB/s eta 0:00:01\n",
      "   ------------------------ --------------- 15.2/24.5 MB 81.8 MB/s eta 0:00:01\n",
      "   ------------------------------ --------- 18.8/24.5 MB 93.9 MB/s eta 0:00:01\n",
      "   ------------------------------------ --- 22.5/24.5 MB 93.9 MB/s eta 0:00:01\n",
      "   ---------------------------------------  24.5/24.5 MB 93.9 MB/s eta 0:00:01\n",
      "   ---------------------------------------  24.5/24.5 MB 93.9 MB/s eta 0:00:01\n",
      "   ---------------------------------------- 24.5/24.5 MB 59.8 MB/s eta 0:00:00\n",
      "Installing collected packages: PyMuPDFb, PyMuPDF\n",
      "Successfully installed PyMuPDF-1.23.7 PyMuPDFb-1.23.7\n"
     ]
    }
   ],
   "source": [
    "!pip install PyMuPDF"
   ]
  },
  {
   "cell_type": "code",
   "execution_count": 11,
   "id": "ad814147-d8c8-462b-b733-3f1d9e4fcbca",
   "metadata": {},
   "outputs": [],
   "source": [
    "import fitz"
   ]
  },
  {
   "cell_type": "code",
   "execution_count": 12,
   "id": "cd3702bc-aca8-4433-8367-13e2754fc19a",
   "metadata": {},
   "outputs": [
    {
     "name": "stdout",
     "output_type": "stream",
     "text": [
      "Dushyant Bhatt BI / Big Data/ Azure Hyderabad-Deccan, Telangana, Telangana - Email me on Indeed: indeed.com/r/Dushyant- Bhatt/140749dace5dc26f • 10+ years of Experience in Designing, Development, Administration, Analysis, Management in the Business Intelligence Data warehousing, Client Server Technologies, Web-based Applications, cloud solutions and Databases. • Data warehouse: Data analysis, star/ snow flake schema data modeling and design specific to data warehousing and business intelligence environment. • Database: Experience in database designing, scalability, back-up and recovery, writing and optimizing SQL code and Stored Procedures, creating functions, views, triggers and indexes.  • Cloud platform: Worked on Microsoft Azure cloud services like Document DB, SQL Azure, Stream Analytics, Event hub, Power BI, Web Job, Web App, Power BI, Azure data lake analytics(U-SQL). • Big Data: Worked Azure data lake store/analytics for big data processing and Azure data factory to schedule U-SQL jobs. Designed and developed end to end big data solution for data insights.  • BI: o ETL: Designed and developed ETL solution in SSIS. Experience in Logging, Error handling, configuration, deployment, troubleshooting and performance tuning of SSIS Packages. o Reporting: Experience in all the Latest Reporting Tools like Tableau Data visualization, Power BI and SSRS 2012. Act as a Point of Contact in Data Interoperability, Analytics and BI and Production Support issue resolution. Experience in Developing Performance Dashboards, Score cards, Metrics, what if analysis, Prompts, Drills. Reports/Dashboards for all the functional areas including Finance, Pricing, Purchasing and Sales/Marketing. Willing to relocate: Anywhere WORK EXPERIENCE Software Engineer Microsoft -  hyderbad, Telangana - December 2015 to Present 1. Microsoft Rewards Live dashboards: Description: - Microsoft rewards is loyalty program that rewards Users for browsing and shopping online. Microsoft Rewards members can earn points when searching with Bing, browsing with Microsoft Edge and making purchases at the Xbox Store, the Windows Store and the Microsoft Store. Plus, user can pick up bonus points for taking daily quizzes and tours on the Microsoft rewards website. Rewards live dashboards gives a live picture of usage world-wide and by markets like US, Canada, Australia, new user registration count, top/bottom performing rewards offers, orders stats and weekly trends of user activities, orders and new user registrations. the PBI tiles gets refreshed in different frequencies starting from 5 seconds to 30 minutes. Technology/Tools used • Event hub, stream analytics and Power BI. Responsibilities • Created stream analytics jobs to process event hub data • Created Power BI live dashboard to show live usage traffic, weekly trends, cards, charts to show top/bottom 10 offers and usage metrics. 2. Microsoft Rewards Data Insights: Description: - Microsoft rewards is loyalty program that rewards Users for browsing and shopping online. Microsoft Rewards members can earn points when searching with Bing, browsing with Microsoft Edge and making purchases at the Xbox Store, the Windows Store and the Microsoft Store. Plus, user can pick up bonus points for taking daily quizzes and tours on the Microsoft rewards website. Rewards data insights is data analytics and reporting platform, processes 20 million users daily activities and redemption across different markets like US, Canada, Australia. Technology/Tools used • Cosmos (Microsoft big-data platform), c#, X-flow job monitoring, Power BI. Responsibilities • Created big data scripts in cosmos • C# data extractors, processors and reducers for data transformation • Power BI dashboards 3. End to end tracking Tool: Description: - This is real-time Tracking tool to track different business transactions like order, order response, functional acknowledgement, invoice flowing inside ICOE. It gives flexibility to customers to track their transactions and appropriate error information in-case of any failure. Based on resource based access control the tool gives flexibility to end user to perform different actions like view transactions, search based on different filter criteria and view and download actual message payload. End to end tracking tool stitches all the business transaction like order to cash flow and connects different hops inside ICOE like gateway, routing server, Processing server. It also connects different systems like ICOE, partner end point and SAP. Technology/Tools used • Azure Document db, Azure web job and Web APP, RBAC, Angular JS. Responsibilities • Document dB stored procedures. • Web job to process event hub data and populate Document db • Web App API. • Stream analytics job to transform data • Power BI reports 4. Biztrack Tracking Tool: Description: - This is real-time Tracking tool to track different business transactions like order, order response, functional acknowledgement, invoice flowing inside ICOE. It gives flexibility to customers to track their transactions and appropriate error information in-case of any failure. Based on resource based access control the tool gives flexibility to end user to perform different actions like view transactions, search based on different filter criteria and view and download actual message payload. Technology/Tools used • SQL server 2014, SSIS, .net API, Angular JS. Responsibilities • ETL solution to transform business transactions data stored in Biztalk tables. • SQL azure tables, stored procedures, User defined functions. • Performance tuning. • Web API enhancements. EDUCATION Saurashtra University -  Morbi, Gujarat 2007 SKILLS problem solving (Less than 1 year), project lifecycle (Less than 1 year), project manager (Less than 1 year), technical assistance. (Less than 1 year) ADDITIONAL INFORMATION Professional Skills • Excellent analytical, problem solving, communication, knowledge transfer and interpersonal skills with ability to interact with individuals at all the levels • Quick learner and maintains cordial relationship with project manager and team members and good performer both in team and independent job environments • Positive attitude towards superiors &amp; peers • Supervised junior developers throughout project lifecycle and provided technical assistance. \n"
     ]
    }
   ],
   "source": [
    "fname='sample_input.pdf'\n",
    "doc = fitz.open(fname)\n",
    "text = \"\"\n",
    "for page in doc:\n",
    "    text = text + str(page.get_text())\n",
    "\n",
    "tx = \" \".join(text.split('\\n'))\n",
    "print(tx)"
   ]
  },
  {
   "cell_type": "code",
   "execution_count": 37,
   "id": "b49ea4df-a82d-4885-b1ba-4008662c07df",
   "metadata": {},
   "outputs": [
    {
     "name": "stdout",
     "output_type": "stream",
     "text": [
      "David Baker S O F T WA R E  D E V E LO P E R Proﬁle “Leading Software Developer and Engineer with 8 years of work experience leading  developing teams in different settings (including remote, international teams). I enjoy  coding, testing, and integration. Seeking anew challenges and opportunities to leverage.  I am an experienced CertiMed Scrum-aster (CS-), having successfully worked with  serviceOoriented (SAb) architectures and weH services. Bolds a �S in CS with many recent  study certiMcations.“ Employment History Software Developer, Johnson & Johnson, San Francisco, CA N OV E M B E R  2 0 1 7  —  N OV E M B E R  2 0 1 9 Johnson & Johnson is a Fortune 500 Medical Device and Manufacturing company in  the US. As a Software Developer, I work on their eCommerce platform in an Agile  environment. My daily responsibilities include:  • Participating in daily stand up meetings, led by our Scrum Master • Utilizing the MEAN stack to enhance and maintain our eCommerce platform • Conducting code peer reviews with other members in my team • Participating in product demos  • Documenting all code changes, following J&J's change protocols Software Developer, PIH Unlimited, San Francisco, CA M AY 2 0 1 6  —  N OV E M B E R  2 0 1 7 As a Software Developer at PIH Unlimited, I worked on a small Agile team in a startup  environment to prototype and build mobile applications. My daily responsibilities  included: • Brainstorming with team members to come up with new mobile application  concepts • Working with stakeholders to gather functional and technical requirements • Creating wireframes and prototypes to test our ideas • Writing code to develop iOS and Android applications, primarily using Java and  Swift • Participating in MVP and product demos • Utilizing automated and manual methods to test our code • Facilitating releases of software upgrades  IT Intern, Fidelity National Financial, San Francisco, CA J A N UA RY 2 0 1 4  —  M AY 2 0 1 6 At Fidelity National Financial, I participated in an IT internship, during which I rotated  between their infrastructure, data analytics, and software engineering departments.  My daily activities included: • Shadowing senior team members to get a feel for their day-to-day  responsabilities • Taking on small software development projects then presenting my work to the  leadership team • Assisting with process improvements, making suggestions on work3ow changes  where needed • Participating in weekly meetings with the entire internship team Education BS in Computer Science, San Francisco State University, San Francisco, CA N OV E M B E R  2 0 1 7 M AY 2 0 2 0  —  M AY 2 0 2 0 Details 148 Main Ave, Orlando, FL,  82/04, United States /90-555-0401 resumeviking.comGtemplatesG N AT I O N A L I T Y USA D R I V I N Z  L I C E N S E Full  DAT E  G  P L AC E  O F B I RT H 05G10G19/8 Flagstaff, Ax Skills MongoDB E�press.JS AngularJS Mode.JS Swift Java Python \n"
     ]
    }
   ],
   "source": [
    "fname='Resume-Software-Developer13.pdf'\n",
    "doc = fitz.open(fname)\n",
    "text = \"\"\n",
    "for page in doc:\n",
    "    text = text + str(page.get_text())\n",
    "\n",
    "tx = \" \".join(text.split('\\n'))\n",
    "print(tx)"
   ]
  },
  {
   "cell_type": "markdown",
   "id": "8aaddb2c-d909-4c5c-8489-6f971b070cc6",
   "metadata": {},
   "source": [
    "# Resume Parser"
   ]
  },
  {
   "cell_type": "markdown",
   "id": "38f8218f-ccb4-461d-93ba-782c73b55c17",
   "metadata": {},
   "source": [
    "## 1. prompt template to parse resume"
   ]
  },
  {
   "cell_type": "code",
   "execution_count": 48,
   "id": "2eb9452c-0088-4524-acc4-eb2a0250a91c",
   "metadata": {},
   "outputs": [],
   "source": [
    "#!pip install openai"
   ]
  },
  {
   "cell_type": "code",
   "execution_count": 14,
   "id": "9fbd14a7-4c5b-4f53-ba34-786b04c5b557",
   "metadata": {},
   "outputs": [
    {
     "name": "stdout",
     "output_type": "stream",
     "text": [
      "Enter your key: ········\n"
     ]
    }
   ],
   "source": [
    "import os\n",
    "from getpass import getpass\n",
    "\n",
    "os.environ['OPEN_AI_KEY']= getpass('Enter your key:')"
   ]
  },
  {
   "cell_type": "code",
   "execution_count": 22,
   "id": "c3a175c3-d2aa-4277-a647-4f5b9c5a6ce5",
   "metadata": {},
   "outputs": [],
   "source": [
    "from openai import OpenAI\n",
    "client = OpenAI(api_key=\"\")"
   ]
  },
  {
   "cell_type": "code",
   "execution_count": 20,
   "id": "82bbd51b-6a23-4e6b-8efb-b48f2e4dd7c5",
   "metadata": {},
   "outputs": [
    {
     "name": "stdout",
     "output_type": "stream",
     "text": [
      "\n",
      "    Based on the below given candidate information, only answer asked question:\n",
      "    Resume text: Dushyant Bhatt BI / Big Data/ Azure Hyderabad-Deccan, Telangana, Telangana - Email me on Indeed: indeed.com/r/Dushyant- Bhatt/140749dace5dc26f • 10+ years of Experience in Designing, Development, Administration, Analysis, Management in the Business Intelligence Data warehousing, Client Server Technologies, Web-based Applications, cloud solutions and Databases. • Data warehouse: Data analysis, star/ snow flake schema data modeling and design specific to data warehousing and business intelligence environment. • Database: Experience in database designing, scalability, back-up and recovery, writing and optimizing SQL code and Stored Procedures, creating functions, views, triggers and indexes.  • Cloud platform: Worked on Microsoft Azure cloud services like Document DB, SQL Azure, Stream Analytics, Event hub, Power BI, Web Job, Web App, Power BI, Azure data lake analytics(U-SQL). • Big Data: Worked Azure data lake store/analytics for big data processing and Azure data factory to schedule U-SQL jobs. Designed and developed end to end big data solution for data insights.  • BI: o ETL: Designed and developed ETL solution in SSIS. Experience in Logging, Error handling, configuration, deployment, troubleshooting and performance tuning of SSIS Packages. o Reporting: Experience in all the Latest Reporting Tools like Tableau Data visualization, Power BI and SSRS 2012. Act as a Point of Contact in Data Interoperability, Analytics and BI and Production Support issue resolution. Experience in Developing Performance Dashboards, Score cards, Metrics, what if analysis, Prompts, Drills. Reports/Dashboards for all the functional areas including Finance, Pricing, Purchasing and Sales/Marketing. Willing to relocate: Anywhere WORK EXPERIENCE Software Engineer Microsoft -  hyderbad, Telangana - December 2015 to Present 1. Microsoft Rewards Live dashboards: Description: - Microsoft rewards is loyalty program that rewards Users for browsing and shopping online. Microsoft Rewards members can earn points when searching with Bing, browsing with Microsoft Edge and making purchases at the Xbox Store, the Windows Store and the Microsoft Store. Plus, user can pick up bonus points for taking daily quizzes and tours on the Microsoft rewards website. Rewards live dashboards gives a live picture of usage world-wide and by markets like US, Canada, Australia, new user registration count, top/bottom performing rewards offers, orders stats and weekly trends of user activities, orders and new user registrations. the PBI tiles gets refreshed in different frequencies starting from 5 seconds to 30 minutes. Technology/Tools used • Event hub, stream analytics and Power BI. Responsibilities • Created stream analytics jobs to process event hub data • Created Power BI live dashboard to show live usage traffic, weekly trends, cards, charts to show top/bottom 10 offers and usage metrics. 2. Microsoft Rewards Data Insights: Description: - Microsoft rewards is loyalty program that rewards Users for browsing and shopping online. Microsoft Rewards members can earn points when searching with Bing, browsing with Microsoft Edge and making purchases at the Xbox Store, the Windows Store and the Microsoft Store. Plus, user can pick up bonus points for taking daily quizzes and tours on the Microsoft rewards website. Rewards data insights is data analytics and reporting platform, processes 20 million users daily activities and redemption across different markets like US, Canada, Australia. Technology/Tools used • Cosmos (Microsoft big-data platform), c#, X-flow job monitoring, Power BI. Responsibilities • Created big data scripts in cosmos • C# data extractors, processors and reducers for data transformation • Power BI dashboards 3. End to end tracking Tool: Description: - This is real-time Tracking tool to track different business transactions like order, order response, functional acknowledgement, invoice flowing inside ICOE. It gives flexibility to customers to track their transactions and appropriate error information in-case of any failure. Based on resource based access control the tool gives flexibility to end user to perform different actions like view transactions, search based on different filter criteria and view and download actual message payload. End to end tracking tool stitches all the business transaction like order to cash flow and connects different hops inside ICOE like gateway, routing server, Processing server. It also connects different systems like ICOE, partner end point and SAP. Technology/Tools used • Azure Document db, Azure web job and Web APP, RBAC, Angular JS. Responsibilities • Document dB stored procedures. • Web job to process event hub data and populate Document db • Web App API. • Stream analytics job to transform data • Power BI reports 4. Biztrack Tracking Tool: Description: - This is real-time Tracking tool to track different business transactions like order, order response, functional acknowledgement, invoice flowing inside ICOE. It gives flexibility to customers to track their transactions and appropriate error information in-case of any failure. Based on resource based access control the tool gives flexibility to end user to perform different actions like view transactions, search based on different filter criteria and view and download actual message payload. Technology/Tools used • SQL server 2014, SSIS, .net API, Angular JS. Responsibilities • ETL solution to transform business transactions data stored in Biztalk tables. • SQL azure tables, stored procedures, User defined functions. • Performance tuning. • Web API enhancements. EDUCATION Saurashtra University -  Morbi, Gujarat 2007 SKILLS problem solving (Less than 1 year), project lifecycle (Less than 1 year), project manager (Less than 1 year), technical assistance. (Less than 1 year) ADDITIONAL INFORMATION Professional Skills • Excellent analytical, problem solving, communication, knowledge transfer and interpersonal skills with ability to interact with individuals at all the levels • Quick learner and maintains cordial relationship with project manager and team members and good performer both in team and independent job environments • Positive attitude towards superiors &amp; peers • Supervised junior developers throughout project lifecycle and provided technical assistance. \n",
      "    Question:  From above candidate's resume text, extract the only following details:\n",
      "            Name: (Find the candidate's full name. If not available, specify \"not available.\")\n",
      "            Email: (Locate the candidate's email address. If not available, specify \"not available.\")\n",
      "            Phone Number: (Identify the candidate's phone number. If not found, specify \"not available.\")\n",
      "            Location: Identify the candidate's city and country. Where the candidate worked or lives. If not found, specify \"not available.\")\n",
      "            Profile: (Identify the candidate's job profile or designation. If not mentioned, specify \"not available.\")\n",
      "            Degree: (Identify the candidate's latest Degree completed or ongoing. If not mentioned, specify \"not available.\")\n",
      "            Years of Experience: (If not explicitly mentioned, calculate the years of experience by analyzing the time durations at each company or position listed. Sum up the total durations to estimate the years of experience. If not determinable, write \"not available.\")\n",
      "            Skills Set: Extract the skills which are purely technical and represent them as: [skill1, skill2,... <other skills from resume>]. If no skills are provided, state \"not available.\"\n",
      "            Summary: provide a brief summary of the candidate's profile without using more than one newline to segregate sections.\n",
      "            \n",
      "\n"
     ]
    }
   ],
   "source": [
    "context = f\"Resume text: {tx}\"\n",
    "question = \"\"\" From above candidate's resume text, extract the only following details:\n",
    "            Name: (Find the candidate's full name. If not available, specify \"not available.\")\n",
    "            Email: (Locate the candidate's email address. If not available, specify \"not available.\")\n",
    "            Phone Number: (Identify the candidate's phone number. If not found, specify \"not available.\")\n",
    "            Location: Identify the candidate's city and country. Where the candidate worked or lives. If not found, specify \"not available.\")\n",
    "            Profile: (Identify the candidate's job profile or designation. If not mentioned, specify \"not available.\")\n",
    "            Degree: (Identify the candidate's latest Degree completed or ongoing. If not mentioned, specify \"not available.\")\n",
    "            Years of Experience: (If not explicitly mentioned, calculate the years of experience by analyzing the time durations at each company or position listed. Sum up the total durations to estimate the years of experience. If not determinable, write \"not available.\")\n",
    "            Skills Set: Extract the skills which are purely technical and represent them as: [skill1, skill2,... <other skills from resume>]. If no skills are provided, state \"not available.\"\n",
    "            Summary: provide a brief summary of the candidate's profile without using more than one newline to segregate sections.\n",
    "            \"\"\"\n",
    "\n",
    "prompt = f\"\"\"\n",
    "    Based on the below given candidate information, only answer asked question:\n",
    "    {context}\n",
    "    Question: {question}\n",
    "\"\"\"\n",
    "print(prompt)\n"
   ]
  },
  {
   "cell_type": "code",
   "execution_count": 23,
   "id": "40d5be8b-5024-4e24-bfe5-881aabd836e8",
   "metadata": {},
   "outputs": [
    {
     "ename": "AuthenticationError",
     "evalue": "Error code: 401 - {'error': {'message': 'Incorrect API key provided: sk-W0tae***************************************tlyp. You can find your API key at https://platform.openai.com/account/api-keys.', 'type': 'invalid_request_error', 'param': None, 'code': 'invalid_api_key'}}",
     "output_type": "error",
     "traceback": [
      "\u001b[1;31m---------------------------------------------------------------------------\u001b[0m",
      "\u001b[1;31mAuthenticationError\u001b[0m                       Traceback (most recent call last)",
      "Cell \u001b[1;32mIn[23], line 1\u001b[0m\n\u001b[1;32m----> 1\u001b[0m response \u001b[38;5;241m=\u001b[39m \u001b[43mclient\u001b[49m\u001b[38;5;241;43m.\u001b[39;49m\u001b[43mchat\u001b[49m\u001b[38;5;241;43m.\u001b[39;49m\u001b[43mcompletions\u001b[49m\u001b[38;5;241;43m.\u001b[39;49m\u001b[43mcreate\u001b[49m\u001b[43m(\u001b[49m\n\u001b[0;32m      2\u001b[0m \u001b[43m    \u001b[49m\u001b[43mmodel\u001b[49m\u001b[38;5;241;43m=\u001b[39;49m\u001b[38;5;124;43m\"\u001b[39;49m\u001b[38;5;124;43mgpt-3.5-turbo\u001b[39;49m\u001b[38;5;124;43m\"\u001b[39;49m\u001b[43m,\u001b[49m\n\u001b[0;32m      3\u001b[0m \u001b[43m    \u001b[49m\u001b[43mmessages\u001b[49m\u001b[38;5;241;43m=\u001b[39;49m\u001b[43m[\u001b[49m\n\u001b[0;32m      4\u001b[0m \u001b[43m        \u001b[49m\u001b[43m{\u001b[49m\u001b[38;5;124;43m\"\u001b[39;49m\u001b[38;5;124;43mrole\u001b[39;49m\u001b[38;5;124;43m\"\u001b[39;49m\u001b[43m:\u001b[49m\u001b[43m \u001b[49m\u001b[38;5;124;43m\"\u001b[39;49m\u001b[38;5;124;43msystem\u001b[39;49m\u001b[38;5;124;43m\"\u001b[39;49m\u001b[43m,\u001b[49m\u001b[43m \u001b[49m\u001b[38;5;124;43m\"\u001b[39;49m\u001b[38;5;124;43mcontent\u001b[39;49m\u001b[38;5;124;43m\"\u001b[39;49m\u001b[43m:\u001b[49m\u001b[43m \u001b[49m\u001b[38;5;124;43m\"\u001b[39;49m\u001b[38;5;124;43mYou are a helpful HR recruiter.\u001b[39;49m\u001b[38;5;124;43m\"\u001b[39;49m\u001b[43m}\u001b[49m\u001b[43m,\u001b[49m\n\u001b[0;32m      5\u001b[0m \u001b[43m        \u001b[49m\u001b[43m{\u001b[49m\u001b[38;5;124;43m\"\u001b[39;49m\u001b[38;5;124;43mrole\u001b[39;49m\u001b[38;5;124;43m\"\u001b[39;49m\u001b[43m:\u001b[49m\u001b[43m \u001b[49m\u001b[38;5;124;43m\"\u001b[39;49m\u001b[38;5;124;43muser\u001b[39;49m\u001b[38;5;124;43m\"\u001b[39;49m\u001b[43m,\u001b[49m\u001b[43m \u001b[49m\u001b[38;5;124;43m\"\u001b[39;49m\u001b[38;5;124;43mcontent\u001b[39;49m\u001b[38;5;124;43m\"\u001b[39;49m\u001b[43m:\u001b[49m\u001b[43m \u001b[49m\u001b[43mprompt\u001b[49m\u001b[43m}\u001b[49m\n\u001b[0;32m      6\u001b[0m \u001b[43m    \u001b[49m\u001b[43m]\u001b[49m\u001b[43m,\u001b[49m\n\u001b[0;32m      7\u001b[0m \u001b[43m    \u001b[49m\u001b[43mmax_tokens\u001b[49m\u001b[38;5;241;43m=\u001b[39;49m\u001b[38;5;241;43m700\u001b[39;49m\u001b[43m,\u001b[49m\n\u001b[0;32m      8\u001b[0m \u001b[43m    \u001b[49m\u001b[43mtemperature\u001b[49m\u001b[38;5;241;43m=\u001b[39;49m\u001b[38;5;241;43m0\u001b[39;49m\u001b[43m,\u001b[49m\u001b[43m \u001b[49m\u001b[38;5;66;43;03m#0.5\u001b[39;49;00m\n\u001b[0;32m      9\u001b[0m \u001b[43m    \u001b[49m\u001b[43mn\u001b[49m\u001b[38;5;241;43m=\u001b[39;49m\u001b[38;5;241;43m1\u001b[39;49m\u001b[43m  \u001b[49m\u001b[38;5;66;43;03m# assuming you want one generation per document\u001b[39;49;00m\n\u001b[0;32m     10\u001b[0m \u001b[43m)\u001b[49m\n\u001b[0;32m     11\u001b[0m \u001b[38;5;66;03m# Extract the generated response\u001b[39;00m\n\u001b[0;32m     12\u001b[0m response_text \u001b[38;5;241m=\u001b[39m response\u001b[38;5;241m.\u001b[39mchoices[\u001b[38;5;241m0\u001b[39m]\u001b[38;5;241m.\u001b[39mmessage\u001b[38;5;241m.\u001b[39mcontent \u001b[38;5;66;03m# response['choices'][0]['message']['content']\u001b[39;00m\n",
      "File \u001b[1;32m~\\anaconda3\\envs\\py310\\lib\\site-packages\\openai\\_utils\\_utils.py:303\u001b[0m, in \u001b[0;36mrequired_args.<locals>.inner.<locals>.wrapper\u001b[1;34m(*args, **kwargs)\u001b[0m\n\u001b[0;32m    301\u001b[0m             msg \u001b[38;5;241m=\u001b[39m \u001b[38;5;124mf\u001b[39m\u001b[38;5;124m\"\u001b[39m\u001b[38;5;124mMissing required argument: \u001b[39m\u001b[38;5;132;01m{\u001b[39;00mquote(missing[\u001b[38;5;241m0\u001b[39m])\u001b[38;5;132;01m}\u001b[39;00m\u001b[38;5;124m\"\u001b[39m\n\u001b[0;32m    302\u001b[0m     \u001b[38;5;28;01mraise\u001b[39;00m \u001b[38;5;167;01mTypeError\u001b[39;00m(msg)\n\u001b[1;32m--> 303\u001b[0m \u001b[38;5;28;01mreturn\u001b[39;00m func(\u001b[38;5;241m*\u001b[39margs, \u001b[38;5;241m*\u001b[39m\u001b[38;5;241m*\u001b[39mkwargs)\n",
      "File \u001b[1;32m~\\anaconda3\\envs\\py310\\lib\\site-packages\\openai\\resources\\chat\\completions.py:598\u001b[0m, in \u001b[0;36mCompletions.create\u001b[1;34m(self, messages, model, frequency_penalty, function_call, functions, logit_bias, max_tokens, n, presence_penalty, response_format, seed, stop, stream, temperature, tool_choice, tools, top_p, user, extra_headers, extra_query, extra_body, timeout)\u001b[0m\n\u001b[0;32m    551\u001b[0m \u001b[38;5;129m@required_args\u001b[39m([\u001b[38;5;124m\"\u001b[39m\u001b[38;5;124mmessages\u001b[39m\u001b[38;5;124m\"\u001b[39m, \u001b[38;5;124m\"\u001b[39m\u001b[38;5;124mmodel\u001b[39m\u001b[38;5;124m\"\u001b[39m], [\u001b[38;5;124m\"\u001b[39m\u001b[38;5;124mmessages\u001b[39m\u001b[38;5;124m\"\u001b[39m, \u001b[38;5;124m\"\u001b[39m\u001b[38;5;124mmodel\u001b[39m\u001b[38;5;124m\"\u001b[39m, \u001b[38;5;124m\"\u001b[39m\u001b[38;5;124mstream\u001b[39m\u001b[38;5;124m\"\u001b[39m])\n\u001b[0;32m    552\u001b[0m \u001b[38;5;28;01mdef\u001b[39;00m \u001b[38;5;21mcreate\u001b[39m(\n\u001b[0;32m    553\u001b[0m     \u001b[38;5;28mself\u001b[39m,\n\u001b[1;32m   (...)\u001b[0m\n\u001b[0;32m    596\u001b[0m     timeout: \u001b[38;5;28mfloat\u001b[39m \u001b[38;5;241m|\u001b[39m httpx\u001b[38;5;241m.\u001b[39mTimeout \u001b[38;5;241m|\u001b[39m \u001b[38;5;28;01mNone\u001b[39;00m \u001b[38;5;241m|\u001b[39m NotGiven \u001b[38;5;241m=\u001b[39m NOT_GIVEN,\n\u001b[0;32m    597\u001b[0m ) \u001b[38;5;241m-\u001b[39m\u001b[38;5;241m>\u001b[39m ChatCompletion \u001b[38;5;241m|\u001b[39m Stream[ChatCompletionChunk]:\n\u001b[1;32m--> 598\u001b[0m     \u001b[38;5;28;01mreturn\u001b[39;00m \u001b[38;5;28;43mself\u001b[39;49m\u001b[38;5;241;43m.\u001b[39;49m\u001b[43m_post\u001b[49m\u001b[43m(\u001b[49m\n\u001b[0;32m    599\u001b[0m \u001b[43m        \u001b[49m\u001b[38;5;124;43m\"\u001b[39;49m\u001b[38;5;124;43m/chat/completions\u001b[39;49m\u001b[38;5;124;43m\"\u001b[39;49m\u001b[43m,\u001b[49m\n\u001b[0;32m    600\u001b[0m \u001b[43m        \u001b[49m\u001b[43mbody\u001b[49m\u001b[38;5;241;43m=\u001b[39;49m\u001b[43mmaybe_transform\u001b[49m\u001b[43m(\u001b[49m\n\u001b[0;32m    601\u001b[0m \u001b[43m            \u001b[49m\u001b[43m{\u001b[49m\n\u001b[0;32m    602\u001b[0m \u001b[43m                \u001b[49m\u001b[38;5;124;43m\"\u001b[39;49m\u001b[38;5;124;43mmessages\u001b[39;49m\u001b[38;5;124;43m\"\u001b[39;49m\u001b[43m:\u001b[49m\u001b[43m \u001b[49m\u001b[43mmessages\u001b[49m\u001b[43m,\u001b[49m\n\u001b[0;32m    603\u001b[0m \u001b[43m                \u001b[49m\u001b[38;5;124;43m\"\u001b[39;49m\u001b[38;5;124;43mmodel\u001b[39;49m\u001b[38;5;124;43m\"\u001b[39;49m\u001b[43m:\u001b[49m\u001b[43m \u001b[49m\u001b[43mmodel\u001b[49m\u001b[43m,\u001b[49m\n\u001b[0;32m    604\u001b[0m \u001b[43m                \u001b[49m\u001b[38;5;124;43m\"\u001b[39;49m\u001b[38;5;124;43mfrequency_penalty\u001b[39;49m\u001b[38;5;124;43m\"\u001b[39;49m\u001b[43m:\u001b[49m\u001b[43m \u001b[49m\u001b[43mfrequency_penalty\u001b[49m\u001b[43m,\u001b[49m\n\u001b[0;32m    605\u001b[0m \u001b[43m                \u001b[49m\u001b[38;5;124;43m\"\u001b[39;49m\u001b[38;5;124;43mfunction_call\u001b[39;49m\u001b[38;5;124;43m\"\u001b[39;49m\u001b[43m:\u001b[49m\u001b[43m \u001b[49m\u001b[43mfunction_call\u001b[49m\u001b[43m,\u001b[49m\n\u001b[0;32m    606\u001b[0m \u001b[43m                \u001b[49m\u001b[38;5;124;43m\"\u001b[39;49m\u001b[38;5;124;43mfunctions\u001b[39;49m\u001b[38;5;124;43m\"\u001b[39;49m\u001b[43m:\u001b[49m\u001b[43m \u001b[49m\u001b[43mfunctions\u001b[49m\u001b[43m,\u001b[49m\n\u001b[0;32m    607\u001b[0m \u001b[43m                \u001b[49m\u001b[38;5;124;43m\"\u001b[39;49m\u001b[38;5;124;43mlogit_bias\u001b[39;49m\u001b[38;5;124;43m\"\u001b[39;49m\u001b[43m:\u001b[49m\u001b[43m \u001b[49m\u001b[43mlogit_bias\u001b[49m\u001b[43m,\u001b[49m\n\u001b[0;32m    608\u001b[0m \u001b[43m                \u001b[49m\u001b[38;5;124;43m\"\u001b[39;49m\u001b[38;5;124;43mmax_tokens\u001b[39;49m\u001b[38;5;124;43m\"\u001b[39;49m\u001b[43m:\u001b[49m\u001b[43m \u001b[49m\u001b[43mmax_tokens\u001b[49m\u001b[43m,\u001b[49m\n\u001b[0;32m    609\u001b[0m \u001b[43m                \u001b[49m\u001b[38;5;124;43m\"\u001b[39;49m\u001b[38;5;124;43mn\u001b[39;49m\u001b[38;5;124;43m\"\u001b[39;49m\u001b[43m:\u001b[49m\u001b[43m \u001b[49m\u001b[43mn\u001b[49m\u001b[43m,\u001b[49m\n\u001b[0;32m    610\u001b[0m \u001b[43m                \u001b[49m\u001b[38;5;124;43m\"\u001b[39;49m\u001b[38;5;124;43mpresence_penalty\u001b[39;49m\u001b[38;5;124;43m\"\u001b[39;49m\u001b[43m:\u001b[49m\u001b[43m \u001b[49m\u001b[43mpresence_penalty\u001b[49m\u001b[43m,\u001b[49m\n\u001b[0;32m    611\u001b[0m \u001b[43m                \u001b[49m\u001b[38;5;124;43m\"\u001b[39;49m\u001b[38;5;124;43mresponse_format\u001b[39;49m\u001b[38;5;124;43m\"\u001b[39;49m\u001b[43m:\u001b[49m\u001b[43m \u001b[49m\u001b[43mresponse_format\u001b[49m\u001b[43m,\u001b[49m\n\u001b[0;32m    612\u001b[0m \u001b[43m                \u001b[49m\u001b[38;5;124;43m\"\u001b[39;49m\u001b[38;5;124;43mseed\u001b[39;49m\u001b[38;5;124;43m\"\u001b[39;49m\u001b[43m:\u001b[49m\u001b[43m \u001b[49m\u001b[43mseed\u001b[49m\u001b[43m,\u001b[49m\n\u001b[0;32m    613\u001b[0m \u001b[43m                \u001b[49m\u001b[38;5;124;43m\"\u001b[39;49m\u001b[38;5;124;43mstop\u001b[39;49m\u001b[38;5;124;43m\"\u001b[39;49m\u001b[43m:\u001b[49m\u001b[43m \u001b[49m\u001b[43mstop\u001b[49m\u001b[43m,\u001b[49m\n\u001b[0;32m    614\u001b[0m \u001b[43m                \u001b[49m\u001b[38;5;124;43m\"\u001b[39;49m\u001b[38;5;124;43mstream\u001b[39;49m\u001b[38;5;124;43m\"\u001b[39;49m\u001b[43m:\u001b[49m\u001b[43m \u001b[49m\u001b[43mstream\u001b[49m\u001b[43m,\u001b[49m\n\u001b[0;32m    615\u001b[0m \u001b[43m                \u001b[49m\u001b[38;5;124;43m\"\u001b[39;49m\u001b[38;5;124;43mtemperature\u001b[39;49m\u001b[38;5;124;43m\"\u001b[39;49m\u001b[43m:\u001b[49m\u001b[43m \u001b[49m\u001b[43mtemperature\u001b[49m\u001b[43m,\u001b[49m\n\u001b[0;32m    616\u001b[0m \u001b[43m                \u001b[49m\u001b[38;5;124;43m\"\u001b[39;49m\u001b[38;5;124;43mtool_choice\u001b[39;49m\u001b[38;5;124;43m\"\u001b[39;49m\u001b[43m:\u001b[49m\u001b[43m \u001b[49m\u001b[43mtool_choice\u001b[49m\u001b[43m,\u001b[49m\n\u001b[0;32m    617\u001b[0m \u001b[43m                \u001b[49m\u001b[38;5;124;43m\"\u001b[39;49m\u001b[38;5;124;43mtools\u001b[39;49m\u001b[38;5;124;43m\"\u001b[39;49m\u001b[43m:\u001b[49m\u001b[43m \u001b[49m\u001b[43mtools\u001b[49m\u001b[43m,\u001b[49m\n\u001b[0;32m    618\u001b[0m \u001b[43m                \u001b[49m\u001b[38;5;124;43m\"\u001b[39;49m\u001b[38;5;124;43mtop_p\u001b[39;49m\u001b[38;5;124;43m\"\u001b[39;49m\u001b[43m:\u001b[49m\u001b[43m \u001b[49m\u001b[43mtop_p\u001b[49m\u001b[43m,\u001b[49m\n\u001b[0;32m    619\u001b[0m \u001b[43m                \u001b[49m\u001b[38;5;124;43m\"\u001b[39;49m\u001b[38;5;124;43muser\u001b[39;49m\u001b[38;5;124;43m\"\u001b[39;49m\u001b[43m:\u001b[49m\u001b[43m \u001b[49m\u001b[43muser\u001b[49m\u001b[43m,\u001b[49m\n\u001b[0;32m    620\u001b[0m \u001b[43m            \u001b[49m\u001b[43m}\u001b[49m\u001b[43m,\u001b[49m\n\u001b[0;32m    621\u001b[0m \u001b[43m            \u001b[49m\u001b[43mcompletion_create_params\u001b[49m\u001b[38;5;241;43m.\u001b[39;49m\u001b[43mCompletionCreateParams\u001b[49m\u001b[43m,\u001b[49m\n\u001b[0;32m    622\u001b[0m \u001b[43m        \u001b[49m\u001b[43m)\u001b[49m\u001b[43m,\u001b[49m\n\u001b[0;32m    623\u001b[0m \u001b[43m        \u001b[49m\u001b[43moptions\u001b[49m\u001b[38;5;241;43m=\u001b[39;49m\u001b[43mmake_request_options\u001b[49m\u001b[43m(\u001b[49m\n\u001b[0;32m    624\u001b[0m \u001b[43m            \u001b[49m\u001b[43mextra_headers\u001b[49m\u001b[38;5;241;43m=\u001b[39;49m\u001b[43mextra_headers\u001b[49m\u001b[43m,\u001b[49m\u001b[43m \u001b[49m\u001b[43mextra_query\u001b[49m\u001b[38;5;241;43m=\u001b[39;49m\u001b[43mextra_query\u001b[49m\u001b[43m,\u001b[49m\u001b[43m \u001b[49m\u001b[43mextra_body\u001b[49m\u001b[38;5;241;43m=\u001b[39;49m\u001b[43mextra_body\u001b[49m\u001b[43m,\u001b[49m\u001b[43m \u001b[49m\u001b[43mtimeout\u001b[49m\u001b[38;5;241;43m=\u001b[39;49m\u001b[43mtimeout\u001b[49m\n\u001b[0;32m    625\u001b[0m \u001b[43m        \u001b[49m\u001b[43m)\u001b[49m\u001b[43m,\u001b[49m\n\u001b[0;32m    626\u001b[0m \u001b[43m        \u001b[49m\u001b[43mcast_to\u001b[49m\u001b[38;5;241;43m=\u001b[39;49m\u001b[43mChatCompletion\u001b[49m\u001b[43m,\u001b[49m\n\u001b[0;32m    627\u001b[0m \u001b[43m        \u001b[49m\u001b[43mstream\u001b[49m\u001b[38;5;241;43m=\u001b[39;49m\u001b[43mstream\u001b[49m\u001b[43m \u001b[49m\u001b[38;5;129;43;01mor\u001b[39;49;00m\u001b[43m \u001b[49m\u001b[38;5;28;43;01mFalse\u001b[39;49;00m\u001b[43m,\u001b[49m\n\u001b[0;32m    628\u001b[0m \u001b[43m        \u001b[49m\u001b[43mstream_cls\u001b[49m\u001b[38;5;241;43m=\u001b[39;49m\u001b[43mStream\u001b[49m\u001b[43m[\u001b[49m\u001b[43mChatCompletionChunk\u001b[49m\u001b[43m]\u001b[49m\u001b[43m,\u001b[49m\n\u001b[0;32m    629\u001b[0m \u001b[43m    \u001b[49m\u001b[43m)\u001b[49m\n",
      "File \u001b[1;32m~\\anaconda3\\envs\\py310\\lib\\site-packages\\openai\\_base_client.py:1086\u001b[0m, in \u001b[0;36mSyncAPIClient.post\u001b[1;34m(self, path, cast_to, body, options, files, stream, stream_cls)\u001b[0m\n\u001b[0;32m   1072\u001b[0m \u001b[38;5;28;01mdef\u001b[39;00m \u001b[38;5;21mpost\u001b[39m(\n\u001b[0;32m   1073\u001b[0m     \u001b[38;5;28mself\u001b[39m,\n\u001b[0;32m   1074\u001b[0m     path: \u001b[38;5;28mstr\u001b[39m,\n\u001b[1;32m   (...)\u001b[0m\n\u001b[0;32m   1081\u001b[0m     stream_cls: \u001b[38;5;28mtype\u001b[39m[_StreamT] \u001b[38;5;241m|\u001b[39m \u001b[38;5;28;01mNone\u001b[39;00m \u001b[38;5;241m=\u001b[39m \u001b[38;5;28;01mNone\u001b[39;00m,\n\u001b[0;32m   1082\u001b[0m ) \u001b[38;5;241m-\u001b[39m\u001b[38;5;241m>\u001b[39m ResponseT \u001b[38;5;241m|\u001b[39m _StreamT:\n\u001b[0;32m   1083\u001b[0m     opts \u001b[38;5;241m=\u001b[39m FinalRequestOptions\u001b[38;5;241m.\u001b[39mconstruct(\n\u001b[0;32m   1084\u001b[0m         method\u001b[38;5;241m=\u001b[39m\u001b[38;5;124m\"\u001b[39m\u001b[38;5;124mpost\u001b[39m\u001b[38;5;124m\"\u001b[39m, url\u001b[38;5;241m=\u001b[39mpath, json_data\u001b[38;5;241m=\u001b[39mbody, files\u001b[38;5;241m=\u001b[39mto_httpx_files(files), \u001b[38;5;241m*\u001b[39m\u001b[38;5;241m*\u001b[39moptions\n\u001b[0;32m   1085\u001b[0m     )\n\u001b[1;32m-> 1086\u001b[0m     \u001b[38;5;28;01mreturn\u001b[39;00m cast(ResponseT, \u001b[38;5;28;43mself\u001b[39;49m\u001b[38;5;241;43m.\u001b[39;49m\u001b[43mrequest\u001b[49m\u001b[43m(\u001b[49m\u001b[43mcast_to\u001b[49m\u001b[43m,\u001b[49m\u001b[43m \u001b[49m\u001b[43mopts\u001b[49m\u001b[43m,\u001b[49m\u001b[43m \u001b[49m\u001b[43mstream\u001b[49m\u001b[38;5;241;43m=\u001b[39;49m\u001b[43mstream\u001b[49m\u001b[43m,\u001b[49m\u001b[43m \u001b[49m\u001b[43mstream_cls\u001b[49m\u001b[38;5;241;43m=\u001b[39;49m\u001b[43mstream_cls\u001b[49m\u001b[43m)\u001b[49m)\n",
      "File \u001b[1;32m~\\anaconda3\\envs\\py310\\lib\\site-packages\\openai\\_base_client.py:846\u001b[0m, in \u001b[0;36mSyncAPIClient.request\u001b[1;34m(self, cast_to, options, remaining_retries, stream, stream_cls)\u001b[0m\n\u001b[0;32m    837\u001b[0m \u001b[38;5;28;01mdef\u001b[39;00m \u001b[38;5;21mrequest\u001b[39m(\n\u001b[0;32m    838\u001b[0m     \u001b[38;5;28mself\u001b[39m,\n\u001b[0;32m    839\u001b[0m     cast_to: Type[ResponseT],\n\u001b[1;32m   (...)\u001b[0m\n\u001b[0;32m    844\u001b[0m     stream_cls: \u001b[38;5;28mtype\u001b[39m[_StreamT] \u001b[38;5;241m|\u001b[39m \u001b[38;5;28;01mNone\u001b[39;00m \u001b[38;5;241m=\u001b[39m \u001b[38;5;28;01mNone\u001b[39;00m,\n\u001b[0;32m    845\u001b[0m ) \u001b[38;5;241m-\u001b[39m\u001b[38;5;241m>\u001b[39m ResponseT \u001b[38;5;241m|\u001b[39m _StreamT:\n\u001b[1;32m--> 846\u001b[0m     \u001b[38;5;28;01mreturn\u001b[39;00m \u001b[38;5;28;43mself\u001b[39;49m\u001b[38;5;241;43m.\u001b[39;49m\u001b[43m_request\u001b[49m\u001b[43m(\u001b[49m\n\u001b[0;32m    847\u001b[0m \u001b[43m        \u001b[49m\u001b[43mcast_to\u001b[49m\u001b[38;5;241;43m=\u001b[39;49m\u001b[43mcast_to\u001b[49m\u001b[43m,\u001b[49m\n\u001b[0;32m    848\u001b[0m \u001b[43m        \u001b[49m\u001b[43moptions\u001b[49m\u001b[38;5;241;43m=\u001b[39;49m\u001b[43moptions\u001b[49m\u001b[43m,\u001b[49m\n\u001b[0;32m    849\u001b[0m \u001b[43m        \u001b[49m\u001b[43mstream\u001b[49m\u001b[38;5;241;43m=\u001b[39;49m\u001b[43mstream\u001b[49m\u001b[43m,\u001b[49m\n\u001b[0;32m    850\u001b[0m \u001b[43m        \u001b[49m\u001b[43mstream_cls\u001b[49m\u001b[38;5;241;43m=\u001b[39;49m\u001b[43mstream_cls\u001b[49m\u001b[43m,\u001b[49m\n\u001b[0;32m    851\u001b[0m \u001b[43m        \u001b[49m\u001b[43mremaining_retries\u001b[49m\u001b[38;5;241;43m=\u001b[39;49m\u001b[43mremaining_retries\u001b[49m\u001b[43m,\u001b[49m\n\u001b[0;32m    852\u001b[0m \u001b[43m    \u001b[49m\u001b[43m)\u001b[49m\n",
      "File \u001b[1;32m~\\anaconda3\\envs\\py310\\lib\\site-packages\\openai\\_base_client.py:898\u001b[0m, in \u001b[0;36mSyncAPIClient._request\u001b[1;34m(self, cast_to, options, remaining_retries, stream, stream_cls)\u001b[0m\n\u001b[0;32m    895\u001b[0m     \u001b[38;5;28;01mif\u001b[39;00m \u001b[38;5;129;01mnot\u001b[39;00m err\u001b[38;5;241m.\u001b[39mresponse\u001b[38;5;241m.\u001b[39mis_closed:\n\u001b[0;32m    896\u001b[0m         err\u001b[38;5;241m.\u001b[39mresponse\u001b[38;5;241m.\u001b[39mread()\n\u001b[1;32m--> 898\u001b[0m     \u001b[38;5;28;01mraise\u001b[39;00m \u001b[38;5;28mself\u001b[39m\u001b[38;5;241m.\u001b[39m_make_status_error_from_response(err\u001b[38;5;241m.\u001b[39mresponse) \u001b[38;5;28;01mfrom\u001b[39;00m \u001b[38;5;28;01mNone\u001b[39;00m\n\u001b[0;32m    899\u001b[0m \u001b[38;5;28;01mexcept\u001b[39;00m httpx\u001b[38;5;241m.\u001b[39mTimeoutException \u001b[38;5;28;01mas\u001b[39;00m err:\n\u001b[0;32m    900\u001b[0m     \u001b[38;5;28;01mif\u001b[39;00m response \u001b[38;5;129;01mis\u001b[39;00m \u001b[38;5;129;01mnot\u001b[39;00m \u001b[38;5;28;01mNone\u001b[39;00m:\n",
      "\u001b[1;31mAuthenticationError\u001b[0m: Error code: 401 - {'error': {'message': 'Incorrect API key provided: sk-W0tae***************************************tlyp. You can find your API key at https://platform.openai.com/account/api-keys.', 'type': 'invalid_request_error', 'param': None, 'code': 'invalid_api_key'}}"
     ]
    }
   ],
   "source": [
    "response = client.chat.completions.create(\n",
    "    model=\"gpt-3.5-turbo\",\n",
    "    messages=[\n",
    "        {\"role\": \"system\", \"content\": \"You are a helpful HR recruiter.\"},\n",
    "        {\"role\": \"user\", \"content\": prompt}\n",
    "    ],\n",
    "    max_tokens=700,\n",
    "    temperature=0, #0.5\n",
    "    n=1  # assuming you want one generation per document\n",
    ")\n",
    "# Extract the generated response\n",
    "response_text = response.choices[0].message.content # response['choices'][0]['message']['content']\n",
    "print(response_text)"
   ]
  },
  {
   "cell_type": "code",
   "execution_count": 87,
   "id": "88a896e0-01a3-407d-b577-998e9e2054a6",
   "metadata": {},
   "outputs": [
    {
     "data": {
      "text/plain": [
       "'Name: Dushyant Bhatt\\nEmail: not available\\nPhone Number: not available\\nLocation: Hyderabad-Deccan, Telangana, Telangana\\nProfile: BI / Big Data/ Azure\\nDegree: not available\\nYears of Experience: 10+ years\\nSkills Set: [Designing, Development, Administration, Analysis, Management, Data warehousing, Client Server Technologies, Web-based Applications, cloud solutions, Databases, Data analysis, star/ snow flake schema data modeling, database designing, scalability, back-up and recovery, SQL code and Stored Procedures, functions, views, triggers, indexes, Microsoft Azure cloud services, Document DB, SQL Azure, Stream Analytics, Event hub, Power BI, Web Job, Web App, Azure data lake analytics(U-SQL), Azure data lake store/analytics, Azure data factory, SSIS, Tableau Data visualization, Power BI, SSRS 2012, ETL, Logging, Error handling, configuration, deployment, troubleshooting, performance tuning, Reporting, Performance Dashboards, Score cards, Metrics, what if analysis, Prompts, Drills]\\nSummary: Dushyant Bhatt is a BI / Big Data/ Azure professional with 10+ years of experience in Designing, Development, Administration, Analysis, and Management in the Business Intelligence Data warehousing, Client Server Technologies, Web-based Applications, cloud solutions, and Databases. He has expertise in data analysis, data modeling, database designing, and working with Microsoft Azure cloud services. He is skilled in ETL development, reporting tools like Tableau and Power BI, and has experience in developing performance dashboards and reports for various functional areas.'"
      ]
     },
     "execution_count": 87,
     "metadata": {},
     "output_type": "execute_result"
    }
   ],
   "source": [
    "response.choices[0].message.content"
   ]
  },
  {
   "cell_type": "code",
   "execution_count": 40,
   "id": "9f537131-1c06-4630-92b0-5cb71aca2341",
   "metadata": {},
   "outputs": [
    {
     "name": "stdout",
     "output_type": "stream",
     "text": [
      "{'name': 'Dushyant Bhatt', 'email': 'not available', 'phone_no': 'not available', 'location': 'Hyderabad-Deccan, Telangana, Telangana', 'profile': 'BI / Big Data/ Azure', 'degree': 'not available', 'years_of_experience': '10+ years', 'skills': '[Designing, Development, Administration, Analysis, Management, Data analysis, Data modeling, Database designing, SQL code, Stored Procedures, Functions, Views, Triggers, Indexes, Microsoft Azure, Document DB, SQL Azure, Stream Analytics, Event hub, Power BI, Web Job, Web App, Azure data lake analytics, Azure data lake store, Azure data factory, SSIS, Tableau, SSRS, ETL, Reporting, Data visualization, Power BI, Cosmos, C#, X-flow, RBAC, Angular JS, Azure Document db, Azure web job, Web APP, SQL server 2014, .net API, problem solving, project lifecycle, project manager, technical assistance]', 'summary': 'Dushyant Bhatt is a BI / Big Data/ Azure professional with 10+ years of experience in designing, development, administration, analysis, and management in the Business Intelligence Data warehousing, Client Server Technologies, Web-based Applications, cloud solutions, and Databases. He has expertise in data analysis, data modeling, database designing, SQL code optimization, and stored procedures. He has worked on Microsoft Azure cloud services like Document DB, SQL Azure, Stream Analytics, Event hub, Power BI, Web Job, Web App, Azure data lake analytics, and Azure data lake store. He has experience in ETL development using SSIS and reporting using Tableau, Power BI, and SSRS. Dushyant is skilled in problem-solving, project lifecycle, project management, and providing technical assistance.'} \n",
      "\n"
     ]
    }
   ],
   "source": [
    "# Split the response_text into lines\n",
    "lines = response_text.strip().split('\\n')\n",
    "\n",
    "# Now, split each line on the colon to separate the labels from the values\n",
    "# Extract the values\n",
    "name = lines[0].split(': ')[1]\n",
    "email = lines[1].split(': ')[1]\n",
    "phone_no = lines[2].split(': ')[1]\n",
    "location = lines[3].split(': ')[1]\n",
    "profile = lines[4].split(': ')[1]\n",
    "degree =  lines[5].split(': ')[1]\n",
    "years_of_experience = lines[6].split(': ')[1]\n",
    "skills = lines[7].split(': ')[1]\n",
    "summary = lines[8].split(': ')[1]\n",
    "data_dict = {\n",
    "    'name': name,\n",
    "    'email': email,\n",
    "    'phone_no': phone_no,\n",
    "    'location': location,\n",
    "    'profile': profile,\n",
    "    'degree': degree,\n",
    "    'years_of_experience': years_of_experience,\n",
    "    'skills': skills,\n",
    "    'summary': summary\n",
    "}\n",
    "print(data_dict, \"\\n\")"
   ]
  },
  {
   "cell_type": "markdown",
   "id": "a07da2e8-b4eb-41f2-be5a-57f513d2465d",
   "metadata": {},
   "source": [
    "# Llama-Index"
   ]
  },
  {
   "cell_type": "code",
   "execution_count": 8,
   "id": "46e69697-53f9-4057-b184-6d6979087515",
   "metadata": {},
   "outputs": [],
   "source": [
    "#!pip install llama-index"
   ]
  },
  {
   "cell_type": "code",
   "execution_count": 7,
   "id": "8001b4ba-17dc-425e-8388-aecd6f500b66",
   "metadata": {},
   "outputs": [],
   "source": [
    "#!pip install langchain "
   ]
  },
  {
   "cell_type": "code",
   "execution_count": 6,
   "id": "1f447434-d60c-41e2-835a-ff1035d1a143",
   "metadata": {},
   "outputs": [],
   "source": [
    "#!pip install gpt4all"
   ]
  },
  {
   "cell_type": "code",
   "execution_count": 5,
   "id": "e50fb6d6-906b-4d0e-b68a-4f94afaa6c82",
   "metadata": {},
   "outputs": [],
   "source": [
    "#!pip install chromadb"
   ]
  },
  {
   "cell_type": "code",
   "execution_count": 9,
   "id": "101e3b2f-2e08-48fe-bfac-eda040834335",
   "metadata": {},
   "outputs": [],
   "source": [
    "import os\n",
    "os.environ[\"OPENAI_API_KEY\"] = \"\""
   ]
  },
  {
   "cell_type": "code",
   "execution_count": 10,
   "id": "d8766a55-a362-4621-8248-86011ae09c22",
   "metadata": {},
   "outputs": [],
   "source": [
    "from llama_index import download_loader, VectorStoreIndex\n",
    "\n",
    "SimpleWebPageReader = download_loader(\"SimpleWebPageReader\")\n",
    "\n",
    "loader = SimpleWebPageReader()\n",
    "documents = loader.load_data(urls=['https://in.indeed.com/viewjob?jk=4357bbe04bc020d1'])"
   ]
  },
  {
   "cell_type": "code",
   "execution_count": 11,
   "id": "0322c63a-7e59-4c09-b8aa-7bfc366ab5c3",
   "metadata": {},
   "outputs": [
    {
     "ename": "AttributeError",
     "evalue": "'VectorStoreIndex' object has no attribute 'query'",
     "output_type": "error",
     "traceback": [
      "\u001b[1;31m---------------------------------------------------------------------------\u001b[0m",
      "\u001b[1;31mAttributeError\u001b[0m                            Traceback (most recent call last)",
      "Cell \u001b[1;32mIn[11], line 2\u001b[0m\n\u001b[0;32m      1\u001b[0m index \u001b[38;5;241m=\u001b[39m VectorStoreIndex\u001b[38;5;241m.\u001b[39mfrom_documents(documents)\n\u001b[1;32m----> 2\u001b[0m \u001b[43mindex\u001b[49m\u001b[38;5;241;43m.\u001b[39;49m\u001b[43mquery\u001b[49m(\u001b[38;5;124m'\u001b[39m\u001b[38;5;124mWhat are the skills required for this job?\u001b[39m\u001b[38;5;124m'\u001b[39m)\n",
      "\u001b[1;31mAttributeError\u001b[0m: 'VectorStoreIndex' object has no attribute 'query'"
     ]
    }
   ],
   "source": [
    "index = VectorStoreIndex.from_documents(documents)\n",
    "index.query('What are the skills required for this job?')"
   ]
  },
  {
   "cell_type": "code",
   "execution_count": 12,
   "id": "c670b0e5-9b1f-4ebc-a870-4e04609d7dd9",
   "metadata": {},
   "outputs": [],
   "source": [
    "from langchain.agents import initialize_agent, Tool\n",
    "from langchain.llms import OpenAI\n",
    "from langchain.chains.conversation.memory import ConversationBufferMemory"
   ]
  },
  {
   "cell_type": "code",
   "execution_count": 13,
   "id": "c99ef2f1-f2f4-41a3-8895-4097cea105fd",
   "metadata": {},
   "outputs": [
    {
     "ename": "AttributeError",
     "evalue": "'VectorStoreIndex' object has no attribute 'query'",
     "output_type": "error",
     "traceback": [
      "\u001b[1;31m---------------------------------------------------------------------------\u001b[0m",
      "\u001b[1;31mAttributeError\u001b[0m                            Traceback (most recent call last)",
      "Cell \u001b[1;32mIn[13], line 11\u001b[0m\n\u001b[0;32m      9\u001b[0m memory \u001b[38;5;241m=\u001b[39m ConversationBufferMemory(memory_key\u001b[38;5;241m=\u001b[39m\u001b[38;5;124m\"\u001b[39m\u001b[38;5;124mchat_history\u001b[39m\u001b[38;5;124m\"\u001b[39m)\n\u001b[0;32m     10\u001b[0m agent_chain \u001b[38;5;241m=\u001b[39m initialize_agent(tools, llm, agent\u001b[38;5;241m=\u001b[39m\u001b[38;5;124m\"\u001b[39m\u001b[38;5;124mzero-shot-react-description\u001b[39m\u001b[38;5;124m\"\u001b[39m, memory\u001b[38;5;241m=\u001b[39mmemory)\n\u001b[1;32m---> 11\u001b[0m output \u001b[38;5;241m=\u001b[39m \u001b[43magent_chain\u001b[49m\u001b[38;5;241;43m.\u001b[39;49m\u001b[43mrun\u001b[49m\u001b[43m(\u001b[49m\u001b[38;5;28;43minput\u001b[39;49m\u001b[38;5;241;43m=\u001b[39;49m\u001b[38;5;124;43m\"\u001b[39;49m\u001b[38;5;124;43mWhat are the skills required for this job?\u001b[39;49m\u001b[38;5;124;43m\"\u001b[39;49m\u001b[43m)\u001b[49m\n",
      "File \u001b[1;32m~\\anaconda3\\envs\\py310\\lib\\site-packages\\langchain\\chains\\base.py:512\u001b[0m, in \u001b[0;36mChain.run\u001b[1;34m(self, callbacks, tags, metadata, *args, **kwargs)\u001b[0m\n\u001b[0;32m    507\u001b[0m     \u001b[38;5;28;01mreturn\u001b[39;00m \u001b[38;5;28mself\u001b[39m(args[\u001b[38;5;241m0\u001b[39m], callbacks\u001b[38;5;241m=\u001b[39mcallbacks, tags\u001b[38;5;241m=\u001b[39mtags, metadata\u001b[38;5;241m=\u001b[39mmetadata)[\n\u001b[0;32m    508\u001b[0m         _output_key\n\u001b[0;32m    509\u001b[0m     ]\n\u001b[0;32m    511\u001b[0m \u001b[38;5;28;01mif\u001b[39;00m kwargs \u001b[38;5;129;01mand\u001b[39;00m \u001b[38;5;129;01mnot\u001b[39;00m args:\n\u001b[1;32m--> 512\u001b[0m     \u001b[38;5;28;01mreturn\u001b[39;00m \u001b[38;5;28;43mself\u001b[39;49m\u001b[43m(\u001b[49m\u001b[43mkwargs\u001b[49m\u001b[43m,\u001b[49m\u001b[43m \u001b[49m\u001b[43mcallbacks\u001b[49m\u001b[38;5;241;43m=\u001b[39;49m\u001b[43mcallbacks\u001b[49m\u001b[43m,\u001b[49m\u001b[43m \u001b[49m\u001b[43mtags\u001b[49m\u001b[38;5;241;43m=\u001b[39;49m\u001b[43mtags\u001b[49m\u001b[43m,\u001b[49m\u001b[43m \u001b[49m\u001b[43mmetadata\u001b[49m\u001b[38;5;241;43m=\u001b[39;49m\u001b[43mmetadata\u001b[49m\u001b[43m)\u001b[49m[\n\u001b[0;32m    513\u001b[0m         _output_key\n\u001b[0;32m    514\u001b[0m     ]\n\u001b[0;32m    516\u001b[0m \u001b[38;5;28;01mif\u001b[39;00m \u001b[38;5;129;01mnot\u001b[39;00m kwargs \u001b[38;5;129;01mand\u001b[39;00m \u001b[38;5;129;01mnot\u001b[39;00m args:\n\u001b[0;32m    517\u001b[0m     \u001b[38;5;28;01mraise\u001b[39;00m \u001b[38;5;167;01mValueError\u001b[39;00m(\n\u001b[0;32m    518\u001b[0m         \u001b[38;5;124m\"\u001b[39m\u001b[38;5;124m`run` supported with either positional arguments or keyword arguments,\u001b[39m\u001b[38;5;124m\"\u001b[39m\n\u001b[0;32m    519\u001b[0m         \u001b[38;5;124m\"\u001b[39m\u001b[38;5;124m but none were provided.\u001b[39m\u001b[38;5;124m\"\u001b[39m\n\u001b[0;32m    520\u001b[0m     )\n",
      "File \u001b[1;32m~\\anaconda3\\envs\\py310\\lib\\site-packages\\langchain\\chains\\base.py:312\u001b[0m, in \u001b[0;36mChain.__call__\u001b[1;34m(self, inputs, return_only_outputs, callbacks, tags, metadata, run_name, include_run_info)\u001b[0m\n\u001b[0;32m    310\u001b[0m \u001b[38;5;28;01mexcept\u001b[39;00m \u001b[38;5;167;01mBaseException\u001b[39;00m \u001b[38;5;28;01mas\u001b[39;00m e:\n\u001b[0;32m    311\u001b[0m     run_manager\u001b[38;5;241m.\u001b[39mon_chain_error(e)\n\u001b[1;32m--> 312\u001b[0m     \u001b[38;5;28;01mraise\u001b[39;00m e\n\u001b[0;32m    313\u001b[0m run_manager\u001b[38;5;241m.\u001b[39mon_chain_end(outputs)\n\u001b[0;32m    314\u001b[0m final_outputs: Dict[\u001b[38;5;28mstr\u001b[39m, Any] \u001b[38;5;241m=\u001b[39m \u001b[38;5;28mself\u001b[39m\u001b[38;5;241m.\u001b[39mprep_outputs(\n\u001b[0;32m    315\u001b[0m     inputs, outputs, return_only_outputs\n\u001b[0;32m    316\u001b[0m )\n",
      "File \u001b[1;32m~\\anaconda3\\envs\\py310\\lib\\site-packages\\langchain\\chains\\base.py:306\u001b[0m, in \u001b[0;36mChain.__call__\u001b[1;34m(self, inputs, return_only_outputs, callbacks, tags, metadata, run_name, include_run_info)\u001b[0m\n\u001b[0;32m    299\u001b[0m run_manager \u001b[38;5;241m=\u001b[39m callback_manager\u001b[38;5;241m.\u001b[39mon_chain_start(\n\u001b[0;32m    300\u001b[0m     dumpd(\u001b[38;5;28mself\u001b[39m),\n\u001b[0;32m    301\u001b[0m     inputs,\n\u001b[0;32m    302\u001b[0m     name\u001b[38;5;241m=\u001b[39mrun_name,\n\u001b[0;32m    303\u001b[0m )\n\u001b[0;32m    304\u001b[0m \u001b[38;5;28;01mtry\u001b[39;00m:\n\u001b[0;32m    305\u001b[0m     outputs \u001b[38;5;241m=\u001b[39m (\n\u001b[1;32m--> 306\u001b[0m         \u001b[38;5;28;43mself\u001b[39;49m\u001b[38;5;241;43m.\u001b[39;49m\u001b[43m_call\u001b[49m\u001b[43m(\u001b[49m\u001b[43minputs\u001b[49m\u001b[43m,\u001b[49m\u001b[43m \u001b[49m\u001b[43mrun_manager\u001b[49m\u001b[38;5;241;43m=\u001b[39;49m\u001b[43mrun_manager\u001b[49m\u001b[43m)\u001b[49m\n\u001b[0;32m    307\u001b[0m         \u001b[38;5;28;01mif\u001b[39;00m new_arg_supported\n\u001b[0;32m    308\u001b[0m         \u001b[38;5;28;01melse\u001b[39;00m \u001b[38;5;28mself\u001b[39m\u001b[38;5;241m.\u001b[39m_call(inputs)\n\u001b[0;32m    309\u001b[0m     )\n\u001b[0;32m    310\u001b[0m \u001b[38;5;28;01mexcept\u001b[39;00m \u001b[38;5;167;01mBaseException\u001b[39;00m \u001b[38;5;28;01mas\u001b[39;00m e:\n\u001b[0;32m    311\u001b[0m     run_manager\u001b[38;5;241m.\u001b[39mon_chain_error(e)\n",
      "File \u001b[1;32m~\\anaconda3\\envs\\py310\\lib\\site-packages\\langchain\\agents\\agent.py:1312\u001b[0m, in \u001b[0;36mAgentExecutor._call\u001b[1;34m(self, inputs, run_manager)\u001b[0m\n\u001b[0;32m   1310\u001b[0m \u001b[38;5;66;03m# We now enter the agent loop (until it returns something).\u001b[39;00m\n\u001b[0;32m   1311\u001b[0m \u001b[38;5;28;01mwhile\u001b[39;00m \u001b[38;5;28mself\u001b[39m\u001b[38;5;241m.\u001b[39m_should_continue(iterations, time_elapsed):\n\u001b[1;32m-> 1312\u001b[0m     next_step_output \u001b[38;5;241m=\u001b[39m \u001b[38;5;28;43mself\u001b[39;49m\u001b[38;5;241;43m.\u001b[39;49m\u001b[43m_take_next_step\u001b[49m\u001b[43m(\u001b[49m\n\u001b[0;32m   1313\u001b[0m \u001b[43m        \u001b[49m\u001b[43mname_to_tool_map\u001b[49m\u001b[43m,\u001b[49m\n\u001b[0;32m   1314\u001b[0m \u001b[43m        \u001b[49m\u001b[43mcolor_mapping\u001b[49m\u001b[43m,\u001b[49m\n\u001b[0;32m   1315\u001b[0m \u001b[43m        \u001b[49m\u001b[43minputs\u001b[49m\u001b[43m,\u001b[49m\n\u001b[0;32m   1316\u001b[0m \u001b[43m        \u001b[49m\u001b[43mintermediate_steps\u001b[49m\u001b[43m,\u001b[49m\n\u001b[0;32m   1317\u001b[0m \u001b[43m        \u001b[49m\u001b[43mrun_manager\u001b[49m\u001b[38;5;241;43m=\u001b[39;49m\u001b[43mrun_manager\u001b[49m\u001b[43m,\u001b[49m\n\u001b[0;32m   1318\u001b[0m \u001b[43m    \u001b[49m\u001b[43m)\u001b[49m\n\u001b[0;32m   1319\u001b[0m     \u001b[38;5;28;01mif\u001b[39;00m \u001b[38;5;28misinstance\u001b[39m(next_step_output, AgentFinish):\n\u001b[0;32m   1320\u001b[0m         \u001b[38;5;28;01mreturn\u001b[39;00m \u001b[38;5;28mself\u001b[39m\u001b[38;5;241m.\u001b[39m_return(\n\u001b[0;32m   1321\u001b[0m             next_step_output, intermediate_steps, run_manager\u001b[38;5;241m=\u001b[39mrun_manager\n\u001b[0;32m   1322\u001b[0m         )\n",
      "File \u001b[1;32m~\\anaconda3\\envs\\py310\\lib\\site-packages\\langchain\\agents\\agent.py:1038\u001b[0m, in \u001b[0;36mAgentExecutor._take_next_step\u001b[1;34m(self, name_to_tool_map, color_mapping, inputs, intermediate_steps, run_manager)\u001b[0m\n\u001b[0;32m   1029\u001b[0m \u001b[38;5;28;01mdef\u001b[39;00m \u001b[38;5;21m_take_next_step\u001b[39m(\n\u001b[0;32m   1030\u001b[0m     \u001b[38;5;28mself\u001b[39m,\n\u001b[0;32m   1031\u001b[0m     name_to_tool_map: Dict[\u001b[38;5;28mstr\u001b[39m, BaseTool],\n\u001b[1;32m   (...)\u001b[0m\n\u001b[0;32m   1035\u001b[0m     run_manager: Optional[CallbackManagerForChainRun] \u001b[38;5;241m=\u001b[39m \u001b[38;5;28;01mNone\u001b[39;00m,\n\u001b[0;32m   1036\u001b[0m ) \u001b[38;5;241m-\u001b[39m\u001b[38;5;241m>\u001b[39m Union[AgentFinish, List[Tuple[AgentAction, \u001b[38;5;28mstr\u001b[39m]]]:\n\u001b[0;32m   1037\u001b[0m     \u001b[38;5;28;01mreturn\u001b[39;00m \u001b[38;5;28mself\u001b[39m\u001b[38;5;241m.\u001b[39m_consume_next_step(\n\u001b[1;32m-> 1038\u001b[0m         [\n\u001b[0;32m   1039\u001b[0m             a\n\u001b[0;32m   1040\u001b[0m             \u001b[38;5;28;01mfor\u001b[39;00m a \u001b[38;5;129;01min\u001b[39;00m \u001b[38;5;28mself\u001b[39m\u001b[38;5;241m.\u001b[39m_iter_next_step(\n\u001b[0;32m   1041\u001b[0m                 name_to_tool_map,\n\u001b[0;32m   1042\u001b[0m                 color_mapping,\n\u001b[0;32m   1043\u001b[0m                 inputs,\n\u001b[0;32m   1044\u001b[0m                 intermediate_steps,\n\u001b[0;32m   1045\u001b[0m                 run_manager,\n\u001b[0;32m   1046\u001b[0m             )\n\u001b[0;32m   1047\u001b[0m         ]\n\u001b[0;32m   1048\u001b[0m     )\n",
      "File \u001b[1;32m~\\anaconda3\\envs\\py310\\lib\\site-packages\\langchain\\agents\\agent.py:1038\u001b[0m, in \u001b[0;36m<listcomp>\u001b[1;34m(.0)\u001b[0m\n\u001b[0;32m   1029\u001b[0m \u001b[38;5;28;01mdef\u001b[39;00m \u001b[38;5;21m_take_next_step\u001b[39m(\n\u001b[0;32m   1030\u001b[0m     \u001b[38;5;28mself\u001b[39m,\n\u001b[0;32m   1031\u001b[0m     name_to_tool_map: Dict[\u001b[38;5;28mstr\u001b[39m, BaseTool],\n\u001b[1;32m   (...)\u001b[0m\n\u001b[0;32m   1035\u001b[0m     run_manager: Optional[CallbackManagerForChainRun] \u001b[38;5;241m=\u001b[39m \u001b[38;5;28;01mNone\u001b[39;00m,\n\u001b[0;32m   1036\u001b[0m ) \u001b[38;5;241m-\u001b[39m\u001b[38;5;241m>\u001b[39m Union[AgentFinish, List[Tuple[AgentAction, \u001b[38;5;28mstr\u001b[39m]]]:\n\u001b[0;32m   1037\u001b[0m     \u001b[38;5;28;01mreturn\u001b[39;00m \u001b[38;5;28mself\u001b[39m\u001b[38;5;241m.\u001b[39m_consume_next_step(\n\u001b[1;32m-> 1038\u001b[0m         [\n\u001b[0;32m   1039\u001b[0m             a\n\u001b[0;32m   1040\u001b[0m             \u001b[38;5;28;01mfor\u001b[39;00m a \u001b[38;5;129;01min\u001b[39;00m \u001b[38;5;28mself\u001b[39m\u001b[38;5;241m.\u001b[39m_iter_next_step(\n\u001b[0;32m   1041\u001b[0m                 name_to_tool_map,\n\u001b[0;32m   1042\u001b[0m                 color_mapping,\n\u001b[0;32m   1043\u001b[0m                 inputs,\n\u001b[0;32m   1044\u001b[0m                 intermediate_steps,\n\u001b[0;32m   1045\u001b[0m                 run_manager,\n\u001b[0;32m   1046\u001b[0m             )\n\u001b[0;32m   1047\u001b[0m         ]\n\u001b[0;32m   1048\u001b[0m     )\n",
      "File \u001b[1;32m~\\anaconda3\\envs\\py310\\lib\\site-packages\\langchain\\agents\\agent.py:1134\u001b[0m, in \u001b[0;36mAgentExecutor._iter_next_step\u001b[1;34m(self, name_to_tool_map, color_mapping, inputs, intermediate_steps, run_manager)\u001b[0m\n\u001b[0;32m   1132\u001b[0m         tool_run_kwargs[\u001b[38;5;124m\"\u001b[39m\u001b[38;5;124mllm_prefix\u001b[39m\u001b[38;5;124m\"\u001b[39m] \u001b[38;5;241m=\u001b[39m \u001b[38;5;124m\"\u001b[39m\u001b[38;5;124m\"\u001b[39m\n\u001b[0;32m   1133\u001b[0m     \u001b[38;5;66;03m# We then call the tool on the tool input to get an observation\u001b[39;00m\n\u001b[1;32m-> 1134\u001b[0m     observation \u001b[38;5;241m=\u001b[39m tool\u001b[38;5;241m.\u001b[39mrun(\n\u001b[0;32m   1135\u001b[0m         agent_action\u001b[38;5;241m.\u001b[39mtool_input,\n\u001b[0;32m   1136\u001b[0m         verbose\u001b[38;5;241m=\u001b[39m\u001b[38;5;28mself\u001b[39m\u001b[38;5;241m.\u001b[39mverbose,\n\u001b[0;32m   1137\u001b[0m         color\u001b[38;5;241m=\u001b[39mcolor,\n\u001b[0;32m   1138\u001b[0m         callbacks\u001b[38;5;241m=\u001b[39mrun_manager\u001b[38;5;241m.\u001b[39mget_child() \u001b[38;5;28;01mif\u001b[39;00m run_manager \u001b[38;5;28;01melse\u001b[39;00m \u001b[38;5;28;01mNone\u001b[39;00m,\n\u001b[0;32m   1139\u001b[0m         \u001b[38;5;241m*\u001b[39m\u001b[38;5;241m*\u001b[39mtool_run_kwargs,\n\u001b[0;32m   1140\u001b[0m     )\n\u001b[0;32m   1141\u001b[0m \u001b[38;5;28;01melse\u001b[39;00m:\n\u001b[0;32m   1142\u001b[0m     tool_run_kwargs \u001b[38;5;241m=\u001b[39m \u001b[38;5;28mself\u001b[39m\u001b[38;5;241m.\u001b[39magent\u001b[38;5;241m.\u001b[39mtool_run_logging_kwargs()\n",
      "File \u001b[1;32m~\\anaconda3\\envs\\py310\\lib\\site-packages\\langchain_core\\tools.py:365\u001b[0m, in \u001b[0;36mBaseTool.run\u001b[1;34m(self, tool_input, verbose, start_color, color, callbacks, tags, metadata, run_name, **kwargs)\u001b[0m\n\u001b[0;32m    363\u001b[0m \u001b[38;5;28;01mexcept\u001b[39;00m (\u001b[38;5;167;01mException\u001b[39;00m, \u001b[38;5;167;01mKeyboardInterrupt\u001b[39;00m) \u001b[38;5;28;01mas\u001b[39;00m e:\n\u001b[0;32m    364\u001b[0m     run_manager\u001b[38;5;241m.\u001b[39mon_tool_error(e)\n\u001b[1;32m--> 365\u001b[0m     \u001b[38;5;28;01mraise\u001b[39;00m e\n\u001b[0;32m    366\u001b[0m \u001b[38;5;28;01melse\u001b[39;00m:\n\u001b[0;32m    367\u001b[0m     run_manager\u001b[38;5;241m.\u001b[39mon_tool_end(\n\u001b[0;32m    368\u001b[0m         \u001b[38;5;28mstr\u001b[39m(observation), color\u001b[38;5;241m=\u001b[39mcolor, name\u001b[38;5;241m=\u001b[39m\u001b[38;5;28mself\u001b[39m\u001b[38;5;241m.\u001b[39mname, \u001b[38;5;241m*\u001b[39m\u001b[38;5;241m*\u001b[39mkwargs\n\u001b[0;32m    369\u001b[0m     )\n",
      "File \u001b[1;32m~\\anaconda3\\envs\\py310\\lib\\site-packages\\langchain_core\\tools.py:337\u001b[0m, in \u001b[0;36mBaseTool.run\u001b[1;34m(self, tool_input, verbose, start_color, color, callbacks, tags, metadata, run_name, **kwargs)\u001b[0m\n\u001b[0;32m    334\u001b[0m \u001b[38;5;28;01mtry\u001b[39;00m:\n\u001b[0;32m    335\u001b[0m     tool_args, tool_kwargs \u001b[38;5;241m=\u001b[39m \u001b[38;5;28mself\u001b[39m\u001b[38;5;241m.\u001b[39m_to_args_and_kwargs(parsed_input)\n\u001b[0;32m    336\u001b[0m     observation \u001b[38;5;241m=\u001b[39m (\n\u001b[1;32m--> 337\u001b[0m         \u001b[38;5;28mself\u001b[39m\u001b[38;5;241m.\u001b[39m_run(\u001b[38;5;241m*\u001b[39mtool_args, run_manager\u001b[38;5;241m=\u001b[39mrun_manager, \u001b[38;5;241m*\u001b[39m\u001b[38;5;241m*\u001b[39mtool_kwargs)\n\u001b[0;32m    338\u001b[0m         \u001b[38;5;28;01mif\u001b[39;00m new_arg_supported\n\u001b[0;32m    339\u001b[0m         \u001b[38;5;28;01melse\u001b[39;00m \u001b[38;5;28mself\u001b[39m\u001b[38;5;241m.\u001b[39m_run(\u001b[38;5;241m*\u001b[39mtool_args, \u001b[38;5;241m*\u001b[39m\u001b[38;5;241m*\u001b[39mtool_kwargs)\n\u001b[0;32m    340\u001b[0m     )\n\u001b[0;32m    341\u001b[0m \u001b[38;5;28;01mexcept\u001b[39;00m ToolException \u001b[38;5;28;01mas\u001b[39;00m e:\n\u001b[0;32m    342\u001b[0m     \u001b[38;5;28;01mif\u001b[39;00m \u001b[38;5;129;01mnot\u001b[39;00m \u001b[38;5;28mself\u001b[39m\u001b[38;5;241m.\u001b[39mhandle_tool_error:\n",
      "File \u001b[1;32m~\\anaconda3\\envs\\py310\\lib\\site-packages\\langchain_core\\tools.py:516\u001b[0m, in \u001b[0;36mTool._run\u001b[1;34m(self, run_manager, *args, **kwargs)\u001b[0m\n\u001b[0;32m    507\u001b[0m \u001b[38;5;28;01mif\u001b[39;00m \u001b[38;5;28mself\u001b[39m\u001b[38;5;241m.\u001b[39mfunc:\n\u001b[0;32m    508\u001b[0m     new_argument_supported \u001b[38;5;241m=\u001b[39m signature(\u001b[38;5;28mself\u001b[39m\u001b[38;5;241m.\u001b[39mfunc)\u001b[38;5;241m.\u001b[39mparameters\u001b[38;5;241m.\u001b[39mget(\u001b[38;5;124m\"\u001b[39m\u001b[38;5;124mcallbacks\u001b[39m\u001b[38;5;124m\"\u001b[39m)\n\u001b[0;32m    509\u001b[0m     \u001b[38;5;28;01mreturn\u001b[39;00m (\n\u001b[0;32m    510\u001b[0m         \u001b[38;5;28mself\u001b[39m\u001b[38;5;241m.\u001b[39mfunc(\n\u001b[0;32m    511\u001b[0m             \u001b[38;5;241m*\u001b[39margs,\n\u001b[0;32m    512\u001b[0m             callbacks\u001b[38;5;241m=\u001b[39mrun_manager\u001b[38;5;241m.\u001b[39mget_child() \u001b[38;5;28;01mif\u001b[39;00m run_manager \u001b[38;5;28;01melse\u001b[39;00m \u001b[38;5;28;01mNone\u001b[39;00m,\n\u001b[0;32m    513\u001b[0m             \u001b[38;5;241m*\u001b[39m\u001b[38;5;241m*\u001b[39mkwargs,\n\u001b[0;32m    514\u001b[0m         )\n\u001b[0;32m    515\u001b[0m         \u001b[38;5;28;01mif\u001b[39;00m new_argument_supported\n\u001b[1;32m--> 516\u001b[0m         \u001b[38;5;28;01melse\u001b[39;00m \u001b[38;5;28mself\u001b[39m\u001b[38;5;241m.\u001b[39mfunc(\u001b[38;5;241m*\u001b[39margs, \u001b[38;5;241m*\u001b[39m\u001b[38;5;241m*\u001b[39mkwargs)\n\u001b[0;32m    517\u001b[0m     )\n\u001b[0;32m    518\u001b[0m \u001b[38;5;28;01mraise\u001b[39;00m \u001b[38;5;167;01mNotImplementedError\u001b[39;00m(\u001b[38;5;124m\"\u001b[39m\u001b[38;5;124mTool does not support sync\u001b[39m\u001b[38;5;124m\"\u001b[39m)\n",
      "Cell \u001b[1;32mIn[13], line 4\u001b[0m, in \u001b[0;36m<lambda>\u001b[1;34m(q)\u001b[0m\n\u001b[0;32m      1\u001b[0m tools \u001b[38;5;241m=\u001b[39m [\n\u001b[0;32m      2\u001b[0m     Tool(\n\u001b[0;32m      3\u001b[0m         name\u001b[38;5;241m=\u001b[39m\u001b[38;5;124m\"\u001b[39m\u001b[38;5;124mWebsite Index\u001b[39m\u001b[38;5;124m\"\u001b[39m,\n\u001b[1;32m----> 4\u001b[0m         func\u001b[38;5;241m=\u001b[39m\u001b[38;5;28;01mlambda\u001b[39;00m q: \u001b[43mindex\u001b[49m\u001b[38;5;241;43m.\u001b[39;49m\u001b[43mquery\u001b[49m(q),\n\u001b[0;32m      5\u001b[0m         description\u001b[38;5;241m=\u001b[39m\u001b[38;5;124mf\u001b[39m\u001b[38;5;124m\"\u001b[39m\u001b[38;5;124mUseful when you want answer questions about the text on websites.\u001b[39m\u001b[38;5;124m\"\u001b[39m,\n\u001b[0;32m      6\u001b[0m     ),\n\u001b[0;32m      7\u001b[0m ]\n\u001b[0;32m      8\u001b[0m llm \u001b[38;5;241m=\u001b[39m OpenAI()\n\u001b[0;32m      9\u001b[0m memory \u001b[38;5;241m=\u001b[39m ConversationBufferMemory(memory_key\u001b[38;5;241m=\u001b[39m\u001b[38;5;124m\"\u001b[39m\u001b[38;5;124mchat_history\u001b[39m\u001b[38;5;124m\"\u001b[39m)\n",
      "\u001b[1;31mAttributeError\u001b[0m: 'VectorStoreIndex' object has no attribute 'query'"
     ]
    }
   ],
   "source": [
    "tools = [\n",
    "    Tool(\n",
    "        name=\"Website Index\",\n",
    "        func=lambda q: index.query(q),\n",
    "        description=f\"Useful when you want answer questions about the text on websites.\",\n",
    "    ),\n",
    "]\n",
    "llm = OpenAI()\n",
    "memory = ConversationBufferMemory(memory_key=\"chat_history\")\n",
    "agent_chain = initialize_agent(tools, llm, agent=\"zero-shot-react-description\", memory=memory)\n",
    "output = agent_chain.run(input=\"What are the skills required for this job?\")"
   ]
  },
  {
   "cell_type": "markdown",
   "id": "9f503c46-d6f6-42e8-b264-bf77f5013239",
   "metadata": {},
   "source": [
    "# Langchain"
   ]
  },
  {
   "cell_type": "code",
   "execution_count": 1,
   "id": "e880ff17-2b9c-40db-8c92-d14fb51f832c",
   "metadata": {},
   "outputs": [],
   "source": [
    "from langchain.document_loaders import WebBaseLoader\n",
    "\n",
    "loader = WebBaseLoader(\"https://in.indeed.com/viewjob?jk=cafb85de6d889c56\")\n",
    "data = loader.load()\n",
    "\n",
    "from langchain.text_splitter import RecursiveCharacterTextSplitter\n",
    "\n",
    "text_splitter = RecursiveCharacterTextSplitter(chunk_size=500, chunk_overlap=0)\n",
    "all_splits = text_splitter.split_documents(data)"
   ]
  },
  {
   "cell_type": "code",
   "execution_count": 2,
   "id": "831982e4-89f6-4942-b812-b238581548be",
   "metadata": {},
   "outputs": [],
   "source": [
    "from langchain.embeddings import GPT4AllEmbeddings\n",
    "from langchain.vectorstores import Chroma\n",
    "\n",
    "vectorstore = Chroma.from_documents(documents=all_splits, embedding=GPT4AllEmbeddings())"
   ]
  },
  {
   "cell_type": "code",
   "execution_count": 3,
   "id": "30c4d5fc-62bf-4e9a-bf14-0ee88e38687b",
   "metadata": {},
   "outputs": [
    {
     "name": "stderr",
     "output_type": "stream",
     "text": [
      "Number of requested results 4 is greater than number of elements in index 2, updating n_results = 2\n"
     ]
    },
    {
     "data": {
      "text/plain": [
       "2"
      ]
     },
     "execution_count": 3,
     "metadata": {},
     "output_type": "execute_result"
    }
   ],
   "source": [
    "question = \"what are the skills required for this job?\"\n",
    "docs = vectorstore.similarity_search(question)\n",
    "len(docs)"
   ]
  },
  {
   "cell_type": "code",
   "execution_count": 4,
   "id": "9bc90f6d-d858-4182-bc17-c575d6fd2a51",
   "metadata": {},
   "outputs": [
    {
     "data": {
      "text/plain": [
       "Document(page_content='Attention Required! | Cloudflare\\n\\n\\n\\n\\n\\n\\n\\n\\n\\n\\n\\n\\n\\n\\nPlease enable cookies.\\n\\n\\nSorry, you have been blocked\\nYou are unable to access indeed.com\\n\\n\\n\\n\\n\\n\\n\\n\\n\\n\\n\\nWhy have I been blocked?\\nThis website is using a security service to protect itself from online attacks. The action you just performed triggered the security solution. There are several actions that could trigger this block including submitting a certain word or phrase, a SQL command or malformed data.', metadata={'language': 'en-US', 'source': 'https://in.indeed.com/viewjob?jk=cafb85de6d889c56', 'title': 'Attention Required! | Cloudflare'})"
      ]
     },
     "execution_count": 4,
     "metadata": {},
     "output_type": "execute_result"
    }
   ],
   "source": [
    "docs[0]"
   ]
  },
  {
   "cell_type": "code",
   "execution_count": 9,
   "id": "87a0c9a1-a260-4dca-a0db-4d7d32d4f346",
   "metadata": {},
   "outputs": [],
   "source": [
    "from langchain.chains import create_extraction_chain\n",
    "from langchain.chat_models import ChatOpenAI"
   ]
  },
  {
   "cell_type": "code",
   "execution_count": 50,
   "id": "254d45fc-7042-4893-966f-124209deb18c",
   "metadata": {},
   "outputs": [],
   "source": []
  },
  {
   "cell_type": "code",
   "execution_count": 98,
   "id": "eb5040ac-7016-4ff7-8b62-b15d5f953b98",
   "metadata": {},
   "outputs": [],
   "source": [
    "# Schema\n",
    "resume_schema = {\n",
    "    \"properties\": {\n",
    "        \"name\": {\"type\": \"string\"},\n",
    "        \"email\": {\"type\": \"string\"},\n",
    "        \"phone_number\": {\"type\": \"integer\"},\n",
    "        \"location\": {\"type\": \"string\"},\n",
    "        'profile_title': {\"type\": \"string\"},\n",
    "        'job_title': {\"type\": \"string\"},\n",
    "        'degree': {\"type\": \"string\"},\n",
    "        'total_years_of_experience': {\"type\": \"integer\"},\n",
    "        'skills': {\"type\": \"string\"}\n",
    "    },\n",
    "    \"required\": [\"name\", \"location\", \"job_title\"],\n",
    "}"
   ]
  },
  {
   "cell_type": "code",
   "execution_count": 99,
   "id": "9e6277c8-f355-425b-85d0-23a331eb30f6",
   "metadata": {},
   "outputs": [
    {
     "data": {
      "text/plain": [
       "[{'name': 'Dushyant Bhatt',\n",
       "  'email': 'dushyant.bhatt@example.com',\n",
       "  'phone_number': 1234567890,\n",
       "  'location': 'Hyderabad-Deccan, Telangana',\n",
       "  'profile_title': 'BI / Big Data/ Azure',\n",
       "  'job_title': 'Software Engineer',\n",
       "  'degree': \"Bachelor's Degree\",\n",
       "  'total_years_of_experience': 10,\n",
       "  'skills': 'problem solving, project lifecycle, project manager, technical assistance'}]"
      ]
     },
     "execution_count": 99,
     "metadata": {},
     "output_type": "execute_result"
    }
   ],
   "source": [
    "# Run chain\n",
    "llm = ChatOpenAI(temperature=0, model=\"gpt-3.5-turbo\")\n",
    "chain = create_extraction_chain(resume_schema, llm)\n",
    "chain.run(tx)"
   ]
  },
  {
   "cell_type": "code",
   "execution_count": 100,
   "id": "2c55adeb-c518-4ec3-87be-07a4ece65d6f",
   "metadata": {},
   "outputs": [],
   "source": [
    "# Schema\n",
    "schema = {\n",
    "    \"properties\": {\n",
    "        \"name\": {\"type\": \"string\"},\n",
    "        \"email\": {\"type\": \"string\"},\n",
    "        \"phone_number\": {\"type\": \"integer\"},\n",
    "        \"location\": {\"type\": \"string\"},\n",
    "        'job_title': {\"type\": \"string\"},\n",
    "        'degree': {\"type\": \"string\"},\n",
    "        'total_years_of_experience': {\"type\": \"integer\"},\n",
    "        'technical_skills': {\"type\": \"string\"},\n",
    "        'management_skills': {\"type\": \"string\"},\n",
    "        'language_skills': {\"type\": \"string\"}\n",
    "    },\n",
    "    \"required\": [\"name\", \"location\", \"job_title\"],\n",
    "}"
   ]
  },
  {
   "cell_type": "code",
   "execution_count": 101,
   "id": "bd3b7472-fd06-4e2b-ad47-32a056207d03",
   "metadata": {},
   "outputs": [
    {
     "data": {
      "text/plain": [
       "{'name': 'Dushyant Bhatt',\n",
       " 'email': 'indeed.com/r/Dushyant-Bhatt/140749dace5dc26f',\n",
       " 'phone_number': None,\n",
       " 'location': 'Hyderabad-Deccan, Telangana',\n",
       " 'job_title': 'Software Engineer',\n",
       " 'degree': None,\n",
       " 'total_years_of_experience': 10,\n",
       " 'technical_skills': 'BI, Big Data, Azure, SSIS, Tableau, Power BI, SSRS, Cosmos, C#, X-flow, Azure Document DB, Azure Web Job, Azure Web App, RBAC, Angular JS, SQL Server 2014, .NET API, BizTalk',\n",
       " 'management_skills': None,\n",
       " 'language_skills': None}"
      ]
     },
     "execution_count": 101,
     "metadata": {},
     "output_type": "execute_result"
    }
   ],
   "source": [
    "# Run chain\n",
    "llm = ChatOpenAI(temperature=0, model=\"gpt-3.5-turbo\")\n",
    "chain = create_extraction_chain(schema, llm)\n",
    "chain.run(tx)"
   ]
  },
  {
   "cell_type": "code",
   "execution_count": 102,
   "id": "40116751-d51d-4f1e-a7f2-9ca031af43fc",
   "metadata": {},
   "outputs": [],
   "source": [
    "# Schema\n",
    "resume_schema = {\n",
    "    \"properties\": {\n",
    "        \"name\": {\"type\": \"string\"},\n",
    "        \"email\": {\"type\": \"string\"},\n",
    "        \"phone_number\": {\"type\": \"integer\"},\n",
    "        \"location\": {\"type\": \"string\"},\n",
    "        'profile_title': {\"type\": \"string\"},\n",
    "        'job_title': {\"type\": \"string\"},\n",
    "        'degree': {\"type\": \"string\"},\n",
    "        'total_years_of_experience': {\"type\": \"integer\"},\n",
    "        'hard_skills': {\"type\": \"string\"},\n",
    "        'soft_skills': {\"type\": \"string\"}\n",
    "    },\n",
    "    \"required\": [\"name\", \"location\", \"job_title\"],\n",
    "}"
   ]
  },
  {
   "cell_type": "code",
   "execution_count": 103,
   "id": "c8a911d5-a073-4f43-867d-0e4510236591",
   "metadata": {
    "scrolled": true
   },
   "outputs": [
    {
     "data": {
      "text/plain": [
       "{'name': 'Dushyant Bhatt',\n",
       " 'email': 'indeed.com/r/Dushyant-Bhatt/140749dace5dc26f',\n",
       " 'phone_number': None,\n",
       " 'location': 'Hyderabad-Deccan, Telangana',\n",
       " 'profile_title': 'BI / Big Data/ Azure',\n",
       " 'job_title': 'Software Engineer',\n",
       " 'degree': None,\n",
       " 'total_years_of_experience': 10,\n",
       " 'hard_skills': 'Designing, Development, Administration, Analysis, Management, Data analysis, star/ snow flake schema data modeling, database designing, scalability, back-up and recovery, writing and optimizing SQL code and Stored Procedures, creating functions, views, triggers and indexes, Microsoft Azure cloud services, Document DB, SQL Azure, Stream Analytics, Event hub, Power BI, Web Job, Web App, Azure data lake analytics(U-SQL), Azure data lake store/analytics, Azure data factory, SSIS, Tableau Data visualization, SSRS 2012, ETL solution, Logging, Error handling, configuration, deployment, troubleshooting and performance tuning of SSIS Packages, Power BI live dashboard, Cosmos (Microsoft big-data platform), c#, X-flow job monitoring, C# data extractors, processors and reducers, Azure Document db, Azure web job and Web APP, RBAC, Angular JS, SQL server 2014, .net API',\n",
       " 'soft_skills': 'problem solving, project lifecycle, project manager, technical assistance'}"
      ]
     },
     "execution_count": 103,
     "metadata": {},
     "output_type": "execute_result"
    }
   ],
   "source": [
    "# Run chain\n",
    "llm = ChatOpenAI(temperature=0, model=\"gpt-3.5-turbo\")\n",
    "chain = create_extraction_chain(resume_schema, llm)\n",
    "chain.run(tx)"
   ]
  },
  {
   "cell_type": "code",
   "execution_count": null,
   "id": "c786fdac-6056-435a-9ce7-6078664190cc",
   "metadata": {},
   "outputs": [],
   "source": []
  },
  {
   "cell_type": "code",
   "execution_count": null,
   "id": "3d212329-1964-4388-956f-80623f53eb6d",
   "metadata": {},
   "outputs": [],
   "source": []
  }
 ],
 "metadata": {
  "kernelspec": {
   "display_name": "Python 3 (ipykernel)",
   "language": "python",
   "name": "python3"
  },
  "language_info": {
   "codemirror_mode": {
    "name": "ipython",
    "version": 3
   },
   "file_extension": ".py",
   "mimetype": "text/x-python",
   "name": "python",
   "nbconvert_exporter": "python",
   "pygments_lexer": "ipython3",
   "version": "3.10.13"
  }
 },
 "nbformat": 4,
 "nbformat_minor": 5
}
